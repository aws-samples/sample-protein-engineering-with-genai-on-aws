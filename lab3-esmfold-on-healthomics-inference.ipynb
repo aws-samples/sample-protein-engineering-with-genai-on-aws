{
 "cells": [
  {
   "cell_type": "markdown",
   "metadata": {},
   "source": [
    "# Lab 3 (inference): Predict protein structures with ESMFold model on AWS HealthOmics\n",
    "\n",
    "This notebook will guide you through using AWS HealthOmics to run protein structure inference against the ESMFold model and filter out low-quality predictions by comparing against a reference protein sequence"
   ]
  },
  {
   "cell_type": "markdown",
   "metadata": {},
   "source": [
    "## Step 1: Setup and Configuration\n",
    "\n",
    "First, let's get our AWS account information and set up variables we'll use throughout the notebook."
   ]
  },
  {
   "cell_type": "code",
   "execution_count": null,
   "metadata": {},
   "outputs": [],
   "source": [
    "%pip install py3Dmol\n",
    "%pip install biotite "
   ]
  },
  {
   "cell_type": "code",
   "execution_count": null,
   "metadata": {},
   "outputs": [],
   "source": [
    "import boto3\n",
    "import time\n",
    "from Bio import SeqIO\n",
    "from Bio.Seq import Seq\n",
    "from Bio.SeqRecord import SeqRecord\n",
    "import biotite.structure as struct\n",
    "import biotite.structure.io.pdb as pdb\n",
    "from utils.iam_helper import IamHelper\n",
    "from utils.pdb_helper import structure_to_pdb_str\n",
    "import py3Dmol\n",
    "import pandas as pd\n",
    "\n",
    "##########################################################\n",
    "\n",
    "# Get AWS account information\n",
    "sts_client = boto3.client('sts')\n",
    "account_id = sts_client.get_caller_identity()['Account']\n",
    "region = boto3.Session().region_name\n",
    "\n",
    "# Define S3 bucket and folder names\n",
    "S3_BUCKET = f'workshop-data-{account_id}'\n",
    "LAB1_FOLDER = 'lab1-progen'\n",
    "LAB2_FOLDER = 'lab2-amplify'\n",
    "LAB3_FOLDER = 'lab3-esmfold'\n",
    "\n",
    "print(f\"Account ID: {account_id}\")\n",
    "print(f\"Region: {region}\")\n",
    "print(f\"S3 Bucket: {S3_BUCKET}\")\n",
    "\n",
    "##########################################################\n"
   ]
  },
  {
   "cell_type": "markdown",
   "metadata": {},
   "source": [
    "## Step 2: Explore the AWS HealthOmics Ready2Run workflows \n",
    "\n",
    "We will first list all Ready2Run workflows to find out ESMFold workflow ID. We will then get the detailed information about the ESMFold workflow, including the required parameters."
   ]
  },
  {
   "cell_type": "markdown",
   "metadata": {},
   "source": [
    "### Step 2.1: List all Ready2Run workflows"
   ]
  },
  {
   "cell_type": "code",
   "execution_count": null,
   "metadata": {},
   "outputs": [],
   "source": [
    "# Create HealthOmics client\n",
    "omics = boto3.client('omics')\n",
    "\n",
    "for workflow in omics.list_workflows(type='READY2RUN')['items']:\n",
    "    print(f\"ID: {workflow['id']},  Name: {workflow['name']}\")"
   ]
  },
  {
   "cell_type": "markdown",
   "metadata": {},
   "source": [
    "### Step 2.2: Get detailed information about the ESMFold workflow"
   ]
  },
  {
   "cell_type": "code",
   "execution_count": null,
   "metadata": {},
   "outputs": [],
   "source": [
    "# ESMFold workflow ID\n",
    "workflow_id = '1830181'\n",
    "\n",
    "# Detailed information about ESMFold Ready2Run workflow\n",
    "esmfold_workflow = omics.get_workflow(type='READY2RUN',id=workflow_id)\n",
    "esmfold_workflow"
   ]
  },
  {
   "cell_type": "markdown",
   "metadata": {},
   "source": [
    "### Step 2.3: Get the required parameters of the ESMFold workflow"
   ]
  },
  {
   "cell_type": "code",
   "execution_count": null,
   "metadata": {},
   "outputs": [],
   "source": [
    "esmfold_workflow['parameterTemplate']"
   ]
  },
  {
   "cell_type": "markdown",
   "metadata": {},
   "source": [
    "## Step 3: Predict protein structures using ESMFold\n",
    "\n",
    "We will generate protein structures for all sequences selected at the previous step"
   ]
  },
  {
   "cell_type": "markdown",
   "metadata": {},
   "source": [
    "### Step 3.1: Define variables and resources required for ESMFold runs"
   ]
  },
  {
   "cell_type": "code",
   "execution_count": null,
   "metadata": {},
   "outputs": [],
   "source": [
    "# IAM role for ESMFold run\n",
    "iam_helper = IamHelper()\n",
    "job_role_arn = iam_helper.find_role_arn_by_pattern('OmicsWorkflowRole')\n",
    "\n",
    "# File with the top sequence candidates from the previous step\n",
    "top_sequence_candidates_file_path = f'./data/{LAB2_FOLDER}/top_sequence_candidates.fasta'\n",
    "\n",
    "print(f'Job role ARN: {job_role_arn}') "
   ]
  },
  {
   "cell_type": "markdown",
   "metadata": {},
   "source": [
    "### Step 3.2: Load protein sequences and create ESMFold runs"
   ]
  },
  {
   "cell_type": "code",
   "execution_count": null,
   "metadata": {},
   "outputs": [],
   "source": [
    "structures = []\n",
    "\n",
    "# Load and process each protein sequence\n",
    "for record in SeqIO.parse(top_sequence_candidates_file_path, \"fasta\"):\n",
    "\n",
    "    fasta_file_name = f'{record.id}.fasta'\n",
    "\n",
    "    # Store sequence in a separate fasta file\n",
    "    with open(f'./data/{LAB3_FOLDER}/{fasta_file_name}', 'w') as f:\n",
    "        SeqIO.write(record, f, \"fasta\")\n",
    "\n",
    "    # Copy fasta file to S3\n",
    "    !aws s3 cp ./data/$LAB3_FOLDER/$fasta_file_name s3://$S3_BUCKET/$LAB3_FOLDER/$fasta_file_name\n",
    "\n",
    "    # wait for 10 seconds to prevent throttling \n",
    "    time.sleep(10)\n",
    "\n",
    "    # Create ESMFold run\n",
    "    response = omics.start_run(\n",
    "        workflowType='READY2RUN',\n",
    "        workflowId=workflow_id,\n",
    "        name=f'esmfold-{record.id}',\n",
    "        priority=100,\n",
    "        roleArn=job_role_arn,\n",
    "        outputUri=f's3://{S3_BUCKET}/{LAB3_FOLDER}/results',\n",
    "        parameters={\n",
    "        'fasta_path': f's3://{S3_BUCKET}/{LAB3_FOLDER}/{fasta_file_name}'\n",
    "        }\n",
    "    )\n",
    "\n",
    "    run_id = response['id']\n",
    "    structures.append({\n",
    "        'run_id': run_id,\n",
    "        'prompt_id': record.id,\n",
    "        'sequence': str(record.seq),\n",
    "        'description': record.description,\n",
    "        'transform': None,\n",
    "        'rmsd': None\n",
    "    })\n",
    "\n",
    "    print(f'Run ID: {run_id} sequence: {str(record.seq)} \\n')\n",
    "\n"
   ]
  },
  {
   "cell_type": "markdown",
   "metadata": {},
   "source": [
    "### Step 3.3: Check the status of the created ESMFold runs"
   ]
  },
  {
   "cell_type": "code",
   "execution_count": null,
   "metadata": {},
   "outputs": [],
   "source": [
    "for s in structures:\n",
    "    response = omics.get_run(id=s['run_id'])\n",
    "\n",
    "    print(f\"Run Name: {response['name']}\")\n",
    "    print(f\"Run ID: {response['id']}\")\n",
    "    print(f\"Status: {response['status']}\")\n",
    "    print(f\"Parameters: {response['parameters']}\")\n",
    "    print()"
   ]
  },
  {
   "cell_type": "markdown",
   "metadata": {},
   "source": [
    "## Step 4: Filter out protein sequences using the predicted structures "
   ]
  },
  {
   "cell_type": "markdown",
   "metadata": {},
   "source": [
    "### Step 4.1: Download the results of the ESMFold runs from the S3 output bucket"
   ]
  },
  {
   "cell_type": "code",
   "execution_count": null,
   "metadata": {},
   "outputs": [],
   "source": [
    "!aws s3 cp s3://$S3_BUCKET/$LAB3_FOLDER/results ./data/$LAB3_FOLDER/results --recursive"
   ]
  },
  {
   "cell_type": "markdown",
   "metadata": {},
   "source": [
    "### 4.2: View the reference structure and all predicted structures "
   ]
  },
  {
   "cell_type": "code",
   "execution_count": null,
   "metadata": {},
   "outputs": [],
   "source": [
    "view = py3Dmol.view(width=800, height=300, viewergrid=(1, len(structures) + 1))\n",
    "\n",
    "# Add reference structure\n",
    "with open(f'./data/reference.pdb','r') as f:\n",
    "    view.addModel(f.read(), 'pdb', viewer=(0, 0)) \n",
    "    view.setStyle({'cartoon': {'color': 'blue'}}, viewer=(0, 0))\n",
    "    view.zoomTo(viewer=(0, 0))\n",
    "\n",
    "\n",
    "# Add all predicted structures\n",
    "for i, s in enumerate(structures):\n",
    "    run_id = s['run_id']\n",
    "    pdb_file_name = f'./data/{LAB3_FOLDER}/results/{run_id}/out/pdb/prediction.pdb'\n",
    "\n",
    "    # Add predicted structure\n",
    "    with open(pdb_file_name,'r') as f:\n",
    "        view.addModel(f.read(), 'pdb', viewer=(0, i+1)) \n",
    "        view.setStyle({'cartoon': {'color': 'green'}},viewer=(0, i+1))\n",
    "        view.zoomTo(viewer=(0, i+1))\n",
    "    \n",
    "view.show()"
   ]
  },
  {
   "cell_type": "markdown",
   "metadata": {},
   "source": [
    "### 4.3: Calculate RMSD for predicted structures in comparison to the reference one"
   ]
  },
  {
   "cell_type": "code",
   "execution_count": null,
   "metadata": {},
   "outputs": [],
   "source": [
    "# Load reference structure\n",
    "ref_structure = pdb.PDBFile.read(f'./data/reference.pdb').get_structure()[0]\n",
    "\n",
    "# Process all predicted structures\n",
    "for s in structures:\n",
    "\n",
    "    # Get HealthOmics run ID\n",
    "    run_id = s['run_id']\n",
    "\n",
    "    # Load predicted structure\n",
    "    pdb_file_name = f'./data/{LAB3_FOLDER}/results/{run_id}/out/pdb/prediction.pdb'\n",
    "    gen_structure = pdb.PDBFile.read(pdb_file_name).get_structure()[0]\n",
    "\n",
    "    # get CA atoms\n",
    "    ref_ca = ref_structure[ref_structure.atom_name == 'CA']\n",
    "    gen_ca = gen_structure[gen_structure.atom_name == 'CA']\n",
    "\n",
    "\n",
    "    # Ensure the same length of the arrays of CA atoms\n",
    "    min_len = min(len(ref_ca), len(gen_ca))\n",
    "    ref_ca = ref_ca[:min_len]\n",
    "    gen_ca = gen_ca[:min_len]    \n",
    "\n",
    "    # calculate RMSD before superimpose\n",
    "    rmsd_before = struct.rmsd(ref_ca, gen_ca) \n",
    "\n",
    "    # superimpose reference and generated structures by CA atoms\n",
    "    gen_ca_fit,transform = struct.superimpose(ref_ca, gen_ca)\n",
    "    s['transform'] = transform\n",
    "\n",
    "    # calculate RMSD after superimpose\n",
    "    rmsd_after = struct.rmsd(ref_ca, gen_ca_fit) \n",
    "    s['rmsd'] = rmsd_after\n",
    "\n",
    "    print(f'Run ID: {run_id}')\n",
    "    print(f'Min length: {min_len}')\n",
    "    print(\"RMSD before superimpose: \", rmsd_before)\n",
    "    print(\"RMSD after superimpose: \", rmsd_after)    \n",
    "    print()"
   ]
  },
  {
   "cell_type": "markdown",
   "metadata": {},
   "source": [
    "### Step 4.4: Sort protein sequences by RMSD "
   ]
  },
  {
   "cell_type": "code",
   "execution_count": null,
   "metadata": {},
   "outputs": [],
   "source": [
    "df = pd.DataFrame(structures)\n",
    "df.set_index('prompt_id', inplace=True)\n",
    "df = df.sort_values(by='rmsd',ascending=True)\n",
    "df[['rmsd','run_id', 'sequence', 'description']]"
   ]
  },
  {
   "cell_type": "markdown",
   "metadata": {},
   "source": [
    "### Step 4.5: Select three top sequences for the downstream analysis and save them in a FASTA file"
   ]
  },
  {
   "cell_type": "code",
   "execution_count": null,
   "metadata": {},
   "outputs": [],
   "source": [
    "# Build a list of sequence records\n",
    "records = []\n",
    "for prompt_id, row in df.head(3).iterrows():\n",
    "    record = SeqRecord(\n",
    "        Seq(row.sequence),\n",
    "        id=prompt_id,\n",
    "        description=f'{row.description},rmsd={row.rmsd}'\n",
    "    )\n",
    "    records.append(record)\n",
    "\n",
    "# Save the sequences in a  FASTA file\n",
    "with open(f'./data/{LAB3_FOLDER}/top_sequence_candidates.fasta', 'w') as f:\n",
    "    SeqIO.write(records, f, \"fasta\")"
   ]
  },
  {
   "cell_type": "markdown",
   "metadata": {},
   "source": [
    "### 4.6: Superimpose and visualize the top predicted structure with the reference structure"
   ]
  },
  {
   "cell_type": "code",
   "execution_count": null,
   "metadata": {},
   "outputs": [],
   "source": [
    "# Get top predicted structure info\n",
    "top_gen_structure_info = df.iloc[0]\n",
    "\n",
    "# Load top predicted structure\n",
    "pdb_file_name = f'./data/{LAB3_FOLDER}/results/{top_gen_structure_info.run_id}/out/pdb/prediction.pdb'\n",
    "gen_structure = pdb.PDBFile.read(pdb_file_name).get_structure()[0]\n",
    "\n",
    "# Rotate predicted structure using transform\n",
    "transform = top_gen_structure_info['transform']\n",
    "gen_structure_fit = transform.apply(gen_structure)\n",
    "\n",
    "# Visualize the reference and the top predicted structure\n",
    "view = py3Dmol.view()\n",
    "\n",
    "# add reference structure\n",
    "ref_data = structure_to_pdb_str(ref_structure)\n",
    "view.addModel(ref_data, 'pdb') \n",
    "view.setStyle({'model':0},{'cartoon': {'color': 'blue'}})\n",
    "\n",
    "# add superimposed generated structure \n",
    "gen_data = structure_to_pdb_str(gen_structure_fit)\n",
    "view.addModelsAsFrames(gen_data, 'pdb') \n",
    "view.setStyle({'model':1},{'cartoon': {'color': 'green'}})\n",
    "\n",
    "view.zoomTo()\n",
    "view.show()\n"
   ]
  }
 ],
 "metadata": {
  "kernelspec": {
   "display_name": "Python 3",
   "language": "python",
   "name": "python3"
  },
  "language_info": {
   "codemirror_mode": {
    "name": "ipython",
    "version": 3
   },
   "file_extension": ".py",
   "mimetype": "text/x-python",
   "name": "python",
   "nbconvert_exporter": "python",
   "pygments_lexer": "ipython3",
   "version": "3.12.9"
  }
 },
 "nbformat": 4,
 "nbformat_minor": 2
}
