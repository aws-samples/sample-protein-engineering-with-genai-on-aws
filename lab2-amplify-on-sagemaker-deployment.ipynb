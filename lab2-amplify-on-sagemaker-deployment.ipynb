{
 "cells": [
  {
   "cell_type": "markdown",
   "metadata": {},
   "source": [
    "# Lab2 (deployemnt): Provision resources for running Amplify model on AWS Sagemaker\n",
    "\n",
    "This notebook will guide you through setting up AWS Sagemaker infrastructure to run inference on the Amplify model. We'll create all necessary resources step by step.\n",
    "\n"
   ]
  },
  {
   "cell_type": "markdown",
   "metadata": {},
   "source": [
    "## Step 1: Setup and Configuration\n",
    "\n",
    "First, let's get our AWS account information and set up variables we'll use throughout the notebook."
   ]
  },
  {
   "cell_type": "code",
   "execution_count": 15,
   "metadata": {},
   "outputs": [
    {
     "name": "stdout",
     "output_type": "stream",
     "text": [
      "Account ID: 973884802842\n",
      "Region: us-east-1\n",
      "S3 Bucket: workshop-data-973884802842\n"
     ]
    }
   ],
   "source": [
    "import boto3\n",
    "from sagemaker import get_execution_role, Session, image_uris\n",
    "from sagemaker.pytorch import PyTorchModel\n",
    "import numpy as np\n",
    "\n",
    "\n",
    "##########################################################\n",
    "\n",
    "# Get AWS account information\n",
    "sts_client = boto3.client('sts')\n",
    "account_id = sts_client.get_caller_identity()['Account']\n",
    "region = boto3.Session().region_name\n",
    "\n",
    "# Define S3 bucket and folder names\n",
    "S3_BUCKET = f'workshop-data-{account_id}'\n",
    "LAB1_FOLDER = 'lab1-progen'\n",
    "LAB2_FOLDER = 'lab2-amplify'\n",
    "LAB3_FOLDER = 'lab3-esmfold'\n",
    "\n",
    "print(f\"Account ID: {account_id}\")\n",
    "print(f\"Region: {region}\")\n",
    "print(f\"S3 Bucket: {S3_BUCKET}\")\n",
    "\n",
    "##########################################################\n"
   ]
  },
  {
   "cell_type": "markdown",
   "metadata": {},
   "source": [
    "## Step 2: Define variables and resources required for deployment of the Amplify model on SageMaker"
   ]
  },
  {
   "cell_type": "markdown",
   "metadata": {},
   "source": [
    "### Step 2.1: Define the version of the Amplify model, instance type, and execution role"
   ]
  },
  {
   "cell_type": "code",
   "execution_count": 16,
   "metadata": {},
   "outputs": [
    {
     "name": "stdout",
     "output_type": "stream",
     "text": [
      "Model: chandar-lab/AMPLIFY_120M\n",
      "EC2 Instance Type: ml.c6i.xlarge\n",
      "Role: arn:aws:iam::973884802842:role/sagemaker-domain-SageMakerExecutionRole-90tUww4TYQqS\n"
     ]
    }
   ],
   "source": [
    "# Define model\n",
    "model_version = 'AMPLIFY_120M'\n",
    "model_id = f'chandar-lab/{model_version}'\n",
    "\n",
    "# Define instance type\n",
    "instance_type = 'ml.c6i.xlarge'\n",
    "\n",
    "# Retrieve execution role\n",
    "execution_role = get_execution_role()\n",
    "\n",
    "print(f\"Model: {model_id}\")\n",
    "print(f\"EC2 Instance Type: {instance_type}\") \n",
    "print(f\"Role: {execution_role}\")"
   ]
  },
  {
   "cell_type": "markdown",
   "metadata": {},
   "source": [
    "### Step 2.2 Retreive the URI of a base container image\n",
    "This base image will be used by SageMaker for inference"
   ]
  },
  {
   "cell_type": "code",
   "execution_count": 17,
   "metadata": {},
   "outputs": [
    {
     "name": "stdout",
     "output_type": "stream",
     "text": [
      "Image URI: 763104351884.dkr.ecr.us-east-1.amazonaws.com/pytorch-inference:2.3-cpu-py311\n"
     ]
    }
   ],
   "source": [
    "image = image_uris.retrieve(\n",
    "    region=region, \n",
    "    framework='pytorch', \n",
    "    image_scope='inference', \n",
    "    version='2.3', \n",
    "    base_framework_version='pytorch2.0.0', \n",
    "    instance_type=instance_type)\n",
    "\n",
    "print(f'Image URI: {image}')"
   ]
  },
  {
   "cell_type": "markdown",
   "metadata": {},
   "source": [
    "### Step 2.2: Create `.tar.gz` model artifact \n",
    "[TODO] - Define ..."
   ]
  },
  {
   "cell_type": "code",
   "execution_count": 18,
   "metadata": {},
   "outputs": [
    {
     "name": "stdout",
     "output_type": "stream",
     "text": [
      "mkdir: cannot create directory ‘data/lab2-amplify/model_data’: File exists\n",
      "data/lab2-amplify/model_data/\n",
      "data/lab2-amplify/model_data/data.txt\n",
      "upload: data/lab2-amplify/model_data.tar.gz to s3://workshop-data-973884802842/lab2-amplify/model_data.tar.gz\n"
     ]
    }
   ],
   "source": [
    "model_data_location = f\"s3://{S3_BUCKET}/{LAB2_FOLDER}/model_data.tar.gz\"\n",
    "\n",
    "!mkdir data/$LAB2_FOLDER/model_data\n",
    "!touch data/$LAB2_FOLDER/model_data/data.txt  \n",
    "!tar -czvf data/$LAB2_FOLDER/model_data.tar.gz data/$LAB2_FOLDER/model_data/  \n",
    "!aws s3 cp data/$LAB2_FOLDER/model_data.tar.gz $model_data_location"
   ]
  },
  {
   "cell_type": "markdown",
   "metadata": {},
   "source": [
    "### Step 2.3: Create Custom Inference Script and requirements\n",
    "\n",
    "The custom inference script has 4 methods defining how to:\n",
    "* ```model_fn``` - load the model and tokenizer\n",
    "* ```input_fn``` - pre-processes the input data\n",
    "* ```predict_fn``` - tokenize the input protein sequence and run inference on the model\n",
    "* ```output_fn``` - post-processes the output, returning the model's predictions\n",
    "\n",
    "The custom script file and requirements should be stored locally, and will used in the deployment process"
   ]
  },
  {
   "cell_type": "code",
   "execution_count": 19,
   "metadata": {},
   "outputs": [
    {
     "name": "stdout",
     "output_type": "stream",
     "text": [
      "mkdir: cannot create directory ‘data/lab2-amplify/code’: File exists\n"
     ]
    }
   ],
   "source": [
    "!mkdir data/$LAB2_FOLDER/code"
   ]
  },
  {
   "cell_type": "code",
   "execution_count": 20,
   "metadata": {},
   "outputs": [
    {
     "name": "stdout",
     "output_type": "stream",
     "text": [
      "Overwriting data/lab2-amplify/code/inference.py\n"
     ]
    }
   ],
   "source": [
    "%%writefile data/$LAB2_FOLDER/code/inference.py\n",
    "import logging\n",
    "import os\n",
    "import json  \n",
    "from transformers import AutoModel, AutoTokenizer\n",
    "import torch\n",
    "\n",
    "logging.basicConfig(level=logging.INFO)\n",
    "\n",
    "def model_fn(model_dir):\n",
    "    logging.info(\"[custom] model_fn: Starting the model loading process...\")\n",
    "    try:\n",
    "        model_id = os.getenv('AMPLIFY_MODEL_ID', 'chandar-lab/AMPLIFY_120M')\n",
    "        logging.info(f\"[custom] model_fn: Model id is {model_id}\")\n",
    "\n",
    "        model = AutoModel.from_pretrained(model_id, trust_remote_code=True)\n",
    "        logging.info(f\"[custom] model_fn: Successfully loaded the model: {model}\")\n",
    "\n",
    "        tokenizer = AutoTokenizer.from_pretrained(model_id, trust_remote_code=True)\n",
    "        logging.info(f\"[custom] model_fn: Successfully loaded the tokenizer: {tokenizer}\")\n",
    "\n",
    "        device = \"cuda\" if torch.cuda.is_available() else \"cpu\"\n",
    "        model = model.to(device)\n",
    "        logging.info(f\"[custom] model_fn: Moved model to {device} device\")\n",
    "\n",
    "        return model, tokenizer, device\n",
    "    except Exception as e:        \n",
    "        logging.error(f\"[custom] model_fn: Error occurred while loading the model and tokenizer: {str(e)}\", exc_info=True)\n",
    "        raise e  \n",
    "\n",
    "def input_fn(request_body, content_type='application/json'):\n",
    "    logging.info(\"input_fn: Received input\")\n",
    "    if content_type == 'application/json':\n",
    "        input_data = json.loads(request_body)  \n",
    "        sequence = input_data['sequence']\n",
    "        return sequence\n",
    "    else:\n",
    "        raise ValueError(f\"Unsupported content type: {content_type}\")\n",
    "\n",
    "def predict_fn(input_data, model_artifacts):\n",
    "    logging.info(\"predict_fn: Running inference\")\n",
    "    model, tokenizer, device = model_artifacts\n",
    "\n",
    "    inputs = tokenizer.encode(input_data, return_tensors=\"pt\")\n",
    "\n",
    "    inputs = inputs.to(device)\n",
    "\n",
    "    with torch.no_grad():\n",
    "        output = model(inputs)\n",
    "\n",
    "    return output\n",
    "\n",
    "def output_fn(prediction, accept='application/json'):\n",
    "    logging.info(\"output_fn: Formatting output\")\n",
    "    if accept == 'application/json':\n",
    "        if hasattr(prediction, 'logits'):\n",
    "            output = prediction.logits\n",
    "        else:\n",
    "            raise ValueError(f\"Unknown prediction format: {type(prediction)}\")\n",
    "\n",
    "        return json.dumps({\"output\": output.tolist()}), accept\n",
    "    else:\n",
    "        raise ValueError(f\"Unsupported accept type: {accept}\")\n"
   ]
  },
  {
   "cell_type": "code",
   "execution_count": 21,
   "metadata": {},
   "outputs": [
    {
     "name": "stdout",
     "output_type": "stream",
     "text": [
      "Overwriting data/lab2-amplify/code/requirements.txt\n"
     ]
    }
   ],
   "source": [
    "%%writefile data/$LAB2_FOLDER/code/requirements.txt\n",
    "transformers==4.37.0\n",
    "xformers==0.0.28.post1\n",
    "sentencepiece==0.2.0"
   ]
  },
  {
   "cell_type": "markdown",
   "metadata": {},
   "source": [
    "## Step 4. Deploy and test the Amplify model"
   ]
  },
  {
   "cell_type": "markdown",
   "metadata": {},
   "source": [
    "### Step 4.1: Deploy the Amplify model with PyTorchModel and the Custom Inference Script "
   ]
  },
  {
   "cell_type": "code",
   "execution_count": 22,
   "metadata": {},
   "outputs": [
    {
     "name": "stdout",
     "output_type": "stream",
     "text": [
      "Endpoint name: amplify-120m-endpoint\n"
     ]
    },
    {
     "data": {
      "text/html": [
       "<pre style=\"white-space:pre;overflow-x:auto;line-height:normal;font-family:Menlo,'DejaVu Sans Mono',consolas,'Courier New',monospace\"><span style=\"color: #ff0000; text-decoration-color: #ff0000\">╭─────────────────────────────── </span><span style=\"color: #ff0000; text-decoration-color: #ff0000; font-weight: bold\">Traceback </span><span style=\"color: #ff7f7f; text-decoration-color: #ff7f7f; font-weight: bold\">(most recent call last)</span><span style=\"color: #ff0000; text-decoration-color: #ff0000\"> ────────────────────────────────╮</span>\n",
       "<span style=\"color: #ff0000; text-decoration-color: #ff0000\">│</span> in &lt;module&gt;:20                                                                                   <span style=\"color: #ff0000; text-decoration-color: #ff0000\">│</span>\n",
       "<span style=\"color: #ff0000; text-decoration-color: #ff0000\">│</span>                                                                                                  <span style=\"color: #ff0000; text-decoration-color: #ff0000\">│</span>\n",
       "<span style=\"color: #ff0000; text-decoration-color: #ff0000\">│</span>   <span style=\"color: #7f7f7f; text-decoration-color: #7f7f7f\">17 </span>)                                                                                           <span style=\"color: #ff0000; text-decoration-color: #ff0000\">│</span>\n",
       "<span style=\"color: #ff0000; text-decoration-color: #ff0000\">│</span>   <span style=\"color: #7f7f7f; text-decoration-color: #7f7f7f\">18 </span>                                                                                            <span style=\"color: #ff0000; text-decoration-color: #ff0000\">│</span>\n",
       "<span style=\"color: #ff0000; text-decoration-color: #ff0000\">│</span>   <span style=\"color: #7f7f7f; text-decoration-color: #7f7f7f\">19 # Deploy the model</span>                                                                          <span style=\"color: #ff0000; text-decoration-color: #ff0000\">│</span>\n",
       "<span style=\"color: #ff0000; text-decoration-color: #ff0000\">│</span> <span style=\"color: #800000; text-decoration-color: #800000\">❱ </span>20 predictor = <span style=\"font-weight: bold; text-decoration: underline\">sm_model.deploy(</span>                                                                <span style=\"color: #ff0000; text-decoration-color: #ff0000\">│</span>\n",
       "<span style=\"color: #ff0000; text-decoration-color: #ff0000\">│</span>   <span style=\"color: #7f7f7f; text-decoration-color: #7f7f7f\">21 </span><span style=\"color: #7f7f7f; text-decoration-color: #7f7f7f\">│   </span><span style=\"font-weight: bold; text-decoration: underline\">initial_instance_count=</span><span style=\"color: #0000ff; text-decoration-color: #0000ff; font-weight: bold; text-decoration: underline\">1</span><span style=\"font-weight: bold; text-decoration: underline\">,</span>                                                               <span style=\"color: #ff0000; text-decoration-color: #ff0000\">│</span>\n",
       "<span style=\"color: #ff0000; text-decoration-color: #ff0000\">│</span>   <span style=\"color: #7f7f7f; text-decoration-color: #7f7f7f\">22 </span><span style=\"color: #7f7f7f; text-decoration-color: #7f7f7f\">│   </span><span style=\"font-weight: bold; text-decoration: underline\">instance_type=instance_type,</span>                                                            <span style=\"color: #ff0000; text-decoration-color: #ff0000\">│</span>\n",
       "<span style=\"color: #ff0000; text-decoration-color: #ff0000\">│</span>   <span style=\"color: #7f7f7f; text-decoration-color: #7f7f7f\">23 </span><span style=\"color: #7f7f7f; text-decoration-color: #7f7f7f\">│   </span><span style=\"font-weight: bold; text-decoration: underline\">endpoint_name=endpoint_name</span>                                                             <span style=\"color: #ff0000; text-decoration-color: #ff0000\">│</span>\n",
       "<span style=\"color: #ff0000; text-decoration-color: #ff0000\">│</span>                                                                                                  <span style=\"color: #ff0000; text-decoration-color: #ff0000\">│</span>\n",
       "<span style=\"color: #ff0000; text-decoration-color: #ff0000\">│</span> <span style=\"color: #7f7f7f; text-decoration-color: #7f7f7f\">/opt/conda/lib/python3.12/site-packages/sagemaker/</span><span style=\"font-weight: bold\">model.py</span>:1814 in deploy                        <span style=\"color: #ff0000; text-decoration-color: #ff0000\">│</span>\n",
       "<span style=\"color: #ff0000; text-decoration-color: #ff0000\">│</span>                                                                                                  <span style=\"color: #ff0000; text-decoration-color: #ff0000\">│</span>\n",
       "<span style=\"color: #ff0000; text-decoration-color: #ff0000\">│</span>   <span style=\"color: #7f7f7f; text-decoration-color: #7f7f7f\">1811 </span><span style=\"color: #7f7f7f; text-decoration-color: #7f7f7f\">│   │   │   │   </span>)                                                                         <span style=\"color: #ff0000; text-decoration-color: #ff0000\">│</span>\n",
       "<span style=\"color: #ff0000; text-decoration-color: #ff0000\">│</span>   <span style=\"color: #7f7f7f; text-decoration-color: #7f7f7f\">1812 </span><span style=\"color: #7f7f7f; text-decoration-color: #7f7f7f\">│   │   │   │   </span><span style=\"color: #00ffff; text-decoration-color: #00ffff\">self</span>.sagemaker_session.update_endpoint(<span style=\"color: #00ffff; text-decoration-color: #00ffff\">self</span>.endpoint_name, endpoint_conf  <span style=\"color: #ff0000; text-decoration-color: #ff0000\">│</span>\n",
       "<span style=\"color: #ff0000; text-decoration-color: #ff0000\">│</span>   <span style=\"color: #7f7f7f; text-decoration-color: #7f7f7f\">1813 </span><span style=\"color: #7f7f7f; text-decoration-color: #7f7f7f\">│   │   │   </span><span style=\"color: #0000ff; text-decoration-color: #0000ff\">else</span>:                                                                         <span style=\"color: #ff0000; text-decoration-color: #ff0000\">│</span>\n",
       "<span style=\"color: #ff0000; text-decoration-color: #ff0000\">│</span> <span style=\"color: #800000; text-decoration-color: #800000\">❱ </span>1814 <span style=\"color: #7f7f7f; text-decoration-color: #7f7f7f\">│   │   │   │   </span><span style=\"color: #00ffff; text-decoration-color: #00ffff; font-weight: bold; text-decoration: underline\">self</span><span style=\"font-weight: bold; text-decoration: underline\">.sagemaker_session.endpoint_from_production_variants(</span>                 <span style=\"color: #ff0000; text-decoration-color: #ff0000\">│</span>\n",
       "<span style=\"color: #ff0000; text-decoration-color: #ff0000\">│</span>   <span style=\"color: #7f7f7f; text-decoration-color: #7f7f7f\">1815 </span><span style=\"color: #7f7f7f; text-decoration-color: #7f7f7f\">│   │   │   │   │   </span><span style=\"font-weight: bold; text-decoration: underline\">name=</span><span style=\"color: #00ffff; text-decoration-color: #00ffff; font-weight: bold; text-decoration: underline\">self</span><span style=\"font-weight: bold; text-decoration: underline\">.endpoint_name,</span>                                              <span style=\"color: #ff0000; text-decoration-color: #ff0000\">│</span>\n",
       "<span style=\"color: #ff0000; text-decoration-color: #ff0000\">│</span>   <span style=\"color: #7f7f7f; text-decoration-color: #7f7f7f\">1816 </span><span style=\"color: #7f7f7f; text-decoration-color: #7f7f7f\">│   │   │   │   │   </span><span style=\"font-weight: bold; text-decoration: underline\">production_variants=[production_variant],</span>                             <span style=\"color: #ff0000; text-decoration-color: #ff0000\">│</span>\n",
       "<span style=\"color: #ff0000; text-decoration-color: #ff0000\">│</span>   <span style=\"color: #7f7f7f; text-decoration-color: #7f7f7f\">1817 </span><span style=\"color: #7f7f7f; text-decoration-color: #7f7f7f\">│   │   │   │   │   </span><span style=\"font-weight: bold; text-decoration: underline\">tags=tags,</span>                                                            <span style=\"color: #ff0000; text-decoration-color: #ff0000\">│</span>\n",
       "<span style=\"color: #ff0000; text-decoration-color: #ff0000\">│</span>                                                                                                  <span style=\"color: #ff0000; text-decoration-color: #ff0000\">│</span>\n",
       "<span style=\"color: #ff0000; text-decoration-color: #ff0000\">│</span> <span style=\"color: #7f7f7f; text-decoration-color: #7f7f7f\">/opt/conda/lib/python3.12/site-packages/sagemaker/</span><span style=\"font-weight: bold\">session.py</span>:6031 in                             <span style=\"color: #ff0000; text-decoration-color: #ff0000\">│</span>\n",
       "<span style=\"color: #ff0000; text-decoration-color: #ff0000\">│</span> endpoint_from_production_variants                                                                <span style=\"color: #ff0000; text-decoration-color: #ff0000\">│</span>\n",
       "<span style=\"color: #ff0000; text-decoration-color: #ff0000\">│</span>                                                                                                  <span style=\"color: #ff0000; text-decoration-color: #ff0000\">│</span>\n",
       "<span style=\"color: #ff0000; text-decoration-color: #ff0000\">│</span>   <span style=\"color: #7f7f7f; text-decoration-color: #7f7f7f\">6028 </span><span style=\"color: #7f7f7f; text-decoration-color: #7f7f7f\">│   │   │   </span>config_options[<span style=\"color: #808000; text-decoration-color: #808000\">\"ExecutionRoleArn\"</span>] = role                                     <span style=\"color: #ff0000; text-decoration-color: #ff0000\">│</span>\n",
       "<span style=\"color: #ff0000; text-decoration-color: #ff0000\">│</span>   <span style=\"color: #7f7f7f; text-decoration-color: #7f7f7f\">6029 </span><span style=\"color: #7f7f7f; text-decoration-color: #7f7f7f\">│   │   </span>                                                                                  <span style=\"color: #ff0000; text-decoration-color: #ff0000\">│</span>\n",
       "<span style=\"color: #ff0000; text-decoration-color: #ff0000\">│</span>   <span style=\"color: #7f7f7f; text-decoration-color: #7f7f7f\">6030 </span><span style=\"color: #7f7f7f; text-decoration-color: #7f7f7f\">│   │   </span>logger.info(<span style=\"color: #808000; text-decoration-color: #808000\">\"Creating endpoint-config with name %s\"</span>, name)                        <span style=\"color: #ff0000; text-decoration-color: #ff0000\">│</span>\n",
       "<span style=\"color: #ff0000; text-decoration-color: #ff0000\">│</span> <span style=\"color: #800000; text-decoration-color: #800000\">❱ </span>6031 <span style=\"color: #7f7f7f; text-decoration-color: #7f7f7f\">│   │   </span><span style=\"color: #00ffff; text-decoration-color: #00ffff; font-weight: bold; text-decoration: underline\">self</span><span style=\"font-weight: bold; text-decoration: underline\">.sagemaker_client.create_endpoint_config(**config_options)</span>                    <span style=\"color: #ff0000; text-decoration-color: #ff0000\">│</span>\n",
       "<span style=\"color: #ff0000; text-decoration-color: #ff0000\">│</span>   <span style=\"color: #7f7f7f; text-decoration-color: #7f7f7f\">6032 </span><span style=\"color: #7f7f7f; text-decoration-color: #7f7f7f\">│   │   </span>                                                                                  <span style=\"color: #ff0000; text-decoration-color: #ff0000\">│</span>\n",
       "<span style=\"color: #ff0000; text-decoration-color: #ff0000\">│</span>   <span style=\"color: #7f7f7f; text-decoration-color: #7f7f7f\">6033 </span><span style=\"color: #7f7f7f; text-decoration-color: #7f7f7f\">│   │   </span><span style=\"color: #0000ff; text-decoration-color: #0000ff\">return</span> <span style=\"color: #00ffff; text-decoration-color: #00ffff\">self</span>.create_endpoint(                                                      <span style=\"color: #ff0000; text-decoration-color: #ff0000\">│</span>\n",
       "<span style=\"color: #ff0000; text-decoration-color: #ff0000\">│</span>   <span style=\"color: #7f7f7f; text-decoration-color: #7f7f7f\">6034 </span><span style=\"color: #7f7f7f; text-decoration-color: #7f7f7f\">│   │   │   </span>endpoint_name=name,                                                           <span style=\"color: #ff0000; text-decoration-color: #ff0000\">│</span>\n",
       "<span style=\"color: #ff0000; text-decoration-color: #ff0000\">│</span>                                                                                                  <span style=\"color: #ff0000; text-decoration-color: #ff0000\">│</span>\n",
       "<span style=\"color: #ff0000; text-decoration-color: #ff0000\">│</span> <span style=\"color: #7f7f7f; text-decoration-color: #7f7f7f\">/opt/conda/lib/python3.12/site-packages/botocore/</span><span style=\"font-weight: bold\">client.py</span>:569 in _api_call                      <span style=\"color: #ff0000; text-decoration-color: #ff0000\">│</span>\n",
       "<span style=\"color: #ff0000; text-decoration-color: #ff0000\">│</span>                                                                                                  <span style=\"color: #ff0000; text-decoration-color: #ff0000\">│</span>\n",
       "<span style=\"color: #ff0000; text-decoration-color: #ff0000\">│</span>   <span style=\"color: #7f7f7f; text-decoration-color: #7f7f7f\"> 566 </span><span style=\"color: #7f7f7f; text-decoration-color: #7f7f7f\">│   │   │   │   │   </span><span style=\"color: #808000; text-decoration-color: #808000\">f\"{</span>py_operation_name<span style=\"color: #808000; text-decoration-color: #808000\">}() only accepts keyword arguments.\"</span>              <span style=\"color: #ff0000; text-decoration-color: #ff0000\">│</span>\n",
       "<span style=\"color: #ff0000; text-decoration-color: #ff0000\">│</span>   <span style=\"color: #7f7f7f; text-decoration-color: #7f7f7f\"> 567 </span><span style=\"color: #7f7f7f; text-decoration-color: #7f7f7f\">│   │   │   │   </span>)                                                                         <span style=\"color: #ff0000; text-decoration-color: #ff0000\">│</span>\n",
       "<span style=\"color: #ff0000; text-decoration-color: #ff0000\">│</span>   <span style=\"color: #7f7f7f; text-decoration-color: #7f7f7f\"> 568 </span><span style=\"color: #7f7f7f; text-decoration-color: #7f7f7f\">│   │   │   </span><span style=\"color: #7f7f7f; text-decoration-color: #7f7f7f\"># The \"self\" in this scope is referring to the BaseClient.</span>                    <span style=\"color: #ff0000; text-decoration-color: #ff0000\">│</span>\n",
       "<span style=\"color: #ff0000; text-decoration-color: #ff0000\">│</span> <span style=\"color: #800000; text-decoration-color: #800000\">❱ </span> 569 <span style=\"color: #7f7f7f; text-decoration-color: #7f7f7f\">│   │   │   </span><span style=\"color: #0000ff; text-decoration-color: #0000ff\">return</span> <span style=\"color: #00ffff; text-decoration-color: #00ffff; font-weight: bold; text-decoration: underline\">self</span><span style=\"font-weight: bold; text-decoration: underline\">._make_api_call(operation_name, kwargs)</span>                            <span style=\"color: #ff0000; text-decoration-color: #ff0000\">│</span>\n",
       "<span style=\"color: #ff0000; text-decoration-color: #ff0000\">│</span>   <span style=\"color: #7f7f7f; text-decoration-color: #7f7f7f\"> 570 </span><span style=\"color: #7f7f7f; text-decoration-color: #7f7f7f\">│   │   </span>                                                                                  <span style=\"color: #ff0000; text-decoration-color: #ff0000\">│</span>\n",
       "<span style=\"color: #ff0000; text-decoration-color: #ff0000\">│</span>   <span style=\"color: #7f7f7f; text-decoration-color: #7f7f7f\"> 571 </span><span style=\"color: #7f7f7f; text-decoration-color: #7f7f7f\">│   │   </span>_api_call.<span style=\"color: #ff0000; text-decoration-color: #ff0000\">__name__</span> = <span style=\"color: #00ffff; text-decoration-color: #00ffff\">str</span>(py_operation_name)                                       <span style=\"color: #ff0000; text-decoration-color: #ff0000\">│</span>\n",
       "<span style=\"color: #ff0000; text-decoration-color: #ff0000\">│</span>   <span style=\"color: #7f7f7f; text-decoration-color: #7f7f7f\"> 572 </span>                                                                                          <span style=\"color: #ff0000; text-decoration-color: #ff0000\">│</span>\n",
       "<span style=\"color: #ff0000; text-decoration-color: #ff0000\">│</span>                                                                                                  <span style=\"color: #ff0000; text-decoration-color: #ff0000\">│</span>\n",
       "<span style=\"color: #ff0000; text-decoration-color: #ff0000\">│</span> <span style=\"color: #7f7f7f; text-decoration-color: #7f7f7f\">/opt/conda/lib/python3.12/site-packages/botocore/</span><span style=\"font-weight: bold\">client.py</span>:1023 in _make_api_call                <span style=\"color: #ff0000; text-decoration-color: #ff0000\">│</span>\n",
       "<span style=\"color: #ff0000; text-decoration-color: #ff0000\">│</span>                                                                                                  <span style=\"color: #ff0000; text-decoration-color: #ff0000\">│</span>\n",
       "<span style=\"color: #ff0000; text-decoration-color: #ff0000\">│</span>   <span style=\"color: #7f7f7f; text-decoration-color: #7f7f7f\">1020 </span><span style=\"color: #7f7f7f; text-decoration-color: #7f7f7f\">│   │   │   │   </span><span style=\"color: #808000; text-decoration-color: #808000\">\"Code\"</span>                                                                    <span style=\"color: #ff0000; text-decoration-color: #ff0000\">│</span>\n",
       "<span style=\"color: #ff0000; text-decoration-color: #ff0000\">│</span>   <span style=\"color: #7f7f7f; text-decoration-color: #7f7f7f\">1021 </span><span style=\"color: #7f7f7f; text-decoration-color: #7f7f7f\">│   │   │   </span>)                                                                             <span style=\"color: #ff0000; text-decoration-color: #ff0000\">│</span>\n",
       "<span style=\"color: #ff0000; text-decoration-color: #ff0000\">│</span>   <span style=\"color: #7f7f7f; text-decoration-color: #7f7f7f\">1022 </span><span style=\"color: #7f7f7f; text-decoration-color: #7f7f7f\">│   │   │   </span>error_class = <span style=\"color: #00ffff; text-decoration-color: #00ffff\">self</span>.exceptions.from_code(error_code)                           <span style=\"color: #ff0000; text-decoration-color: #ff0000\">│</span>\n",
       "<span style=\"color: #ff0000; text-decoration-color: #ff0000\">│</span> <span style=\"color: #800000; text-decoration-color: #800000\">❱ </span>1023 <span style=\"color: #7f7f7f; text-decoration-color: #7f7f7f\">│   │   │   </span><span style=\"color: #0000ff; text-decoration-color: #0000ff; font-weight: bold; text-decoration: underline\">raise</span><span style=\"font-weight: bold; text-decoration: underline\"> error_class(parsed_response, operation_name)</span>                            <span style=\"color: #ff0000; text-decoration-color: #ff0000\">│</span>\n",
       "<span style=\"color: #ff0000; text-decoration-color: #ff0000\">│</span>   <span style=\"color: #7f7f7f; text-decoration-color: #7f7f7f\">1024 </span><span style=\"color: #7f7f7f; text-decoration-color: #7f7f7f\">│   │   </span><span style=\"color: #0000ff; text-decoration-color: #0000ff\">else</span>:                                                                             <span style=\"color: #ff0000; text-decoration-color: #ff0000\">│</span>\n",
       "<span style=\"color: #ff0000; text-decoration-color: #ff0000\">│</span>   <span style=\"color: #7f7f7f; text-decoration-color: #7f7f7f\">1025 </span><span style=\"color: #7f7f7f; text-decoration-color: #7f7f7f\">│   │   │   </span><span style=\"color: #0000ff; text-decoration-color: #0000ff\">return</span> parsed_response                                                        <span style=\"color: #ff0000; text-decoration-color: #ff0000\">│</span>\n",
       "<span style=\"color: #ff0000; text-decoration-color: #ff0000\">│</span>   <span style=\"color: #7f7f7f; text-decoration-color: #7f7f7f\">1026 </span>                                                                                          <span style=\"color: #ff0000; text-decoration-color: #ff0000\">│</span>\n",
       "<span style=\"color: #ff0000; text-decoration-color: #ff0000\">╰──────────────────────────────────────────────────────────────────────────────────────────────────╯</span>\n",
       "<span style=\"color: #ff0000; text-decoration-color: #ff0000; font-weight: bold\">ClientError: </span>An error occurred <span style=\"font-weight: bold\">(</span>ValidationException<span style=\"font-weight: bold\">)</span> when calling the CreateEndpointConfig operation: Cannot create\n",
       "already existing endpoint configuration \n",
       "<span style=\"color: #008700; text-decoration-color: #008700\">\"arn:aws:sagemaker:us-east-1:973884802842:endpoint-config/amplify-120m-endpoint\"</span>.\n",
       "</pre>\n"
      ],
      "text/plain": [
       "\u001b[38;2;255;0;0m╭─\u001b[0m\u001b[38;2;255;0;0m──────────────────────────────\u001b[0m\u001b[38;2;255;0;0m \u001b[0m\u001b[1;38;2;255;0;0mTraceback \u001b[0m\u001b[1;2;38;2;255;0;0m(most recent call last)\u001b[0m\u001b[38;2;255;0;0m \u001b[0m\u001b[38;2;255;0;0m───────────────────────────────\u001b[0m\u001b[38;2;255;0;0m─╮\u001b[0m\n",
       "\u001b[38;2;255;0;0m│\u001b[0m in <module>:20                                                                                   \u001b[38;2;255;0;0m│\u001b[0m\n",
       "\u001b[38;2;255;0;0m│\u001b[0m                                                                                                  \u001b[38;2;255;0;0m│\u001b[0m\n",
       "\u001b[38;2;255;0;0m│\u001b[0m   \u001b[2m17 \u001b[0m)                                                                                           \u001b[38;2;255;0;0m│\u001b[0m\n",
       "\u001b[38;2;255;0;0m│\u001b[0m   \u001b[2m18 \u001b[0m                                                                                            \u001b[38;2;255;0;0m│\u001b[0m\n",
       "\u001b[38;2;255;0;0m│\u001b[0m   \u001b[2m19 \u001b[0m\u001b[2m# Deploy the model\u001b[0m                                                                          \u001b[38;2;255;0;0m│\u001b[0m\n",
       "\u001b[38;2;255;0;0m│\u001b[0m \u001b[31m❱ \u001b[0m20 predictor = \u001b[1;4msm_model.deploy(\u001b[0m                                                                \u001b[38;2;255;0;0m│\u001b[0m\n",
       "\u001b[38;2;255;0;0m│\u001b[0m   \u001b[2m21 \u001b[0m\u001b[2m│   \u001b[0m\u001b[1;4minitial_instance_count=\u001b[0m\u001b[1;4;94m1\u001b[0m\u001b[1;4m,\u001b[0m                                                               \u001b[38;2;255;0;0m│\u001b[0m\n",
       "\u001b[38;2;255;0;0m│\u001b[0m   \u001b[2m22 \u001b[0m\u001b[2m│   \u001b[0m\u001b[1;4minstance_type=instance_type,\u001b[0m                                                            \u001b[38;2;255;0;0m│\u001b[0m\n",
       "\u001b[38;2;255;0;0m│\u001b[0m   \u001b[2m23 \u001b[0m\u001b[2m│   \u001b[0m\u001b[1;4mendpoint_name=endpoint_name\u001b[0m                                                             \u001b[38;2;255;0;0m│\u001b[0m\n",
       "\u001b[38;2;255;0;0m│\u001b[0m                                                                                                  \u001b[38;2;255;0;0m│\u001b[0m\n",
       "\u001b[38;2;255;0;0m│\u001b[0m \u001b[2m/opt/conda/lib/python3.12/site-packages/sagemaker/\u001b[0m\u001b[1mmodel.py\u001b[0m:1814 in deploy                        \u001b[38;2;255;0;0m│\u001b[0m\n",
       "\u001b[38;2;255;0;0m│\u001b[0m                                                                                                  \u001b[38;2;255;0;0m│\u001b[0m\n",
       "\u001b[38;2;255;0;0m│\u001b[0m   \u001b[2m1811 \u001b[0m\u001b[2m│   │   │   │   \u001b[0m)                                                                         \u001b[38;2;255;0;0m│\u001b[0m\n",
       "\u001b[38;2;255;0;0m│\u001b[0m   \u001b[2m1812 \u001b[0m\u001b[2m│   │   │   │   \u001b[0m\u001b[96mself\u001b[0m.sagemaker_session.update_endpoint(\u001b[96mself\u001b[0m.endpoint_name, endpoint_conf  \u001b[38;2;255;0;0m│\u001b[0m\n",
       "\u001b[38;2;255;0;0m│\u001b[0m   \u001b[2m1813 \u001b[0m\u001b[2m│   │   │   \u001b[0m\u001b[94melse\u001b[0m:                                                                         \u001b[38;2;255;0;0m│\u001b[0m\n",
       "\u001b[38;2;255;0;0m│\u001b[0m \u001b[31m❱ \u001b[0m1814 \u001b[2m│   │   │   │   \u001b[0m\u001b[1;4;96mself\u001b[0m\u001b[1;4m.sagemaker_session.endpoint_from_production_variants(\u001b[0m                 \u001b[38;2;255;0;0m│\u001b[0m\n",
       "\u001b[38;2;255;0;0m│\u001b[0m   \u001b[2m1815 \u001b[0m\u001b[2m│   │   │   │   │   \u001b[0m\u001b[1;4mname=\u001b[0m\u001b[1;4;96mself\u001b[0m\u001b[1;4m.endpoint_name,\u001b[0m                                              \u001b[38;2;255;0;0m│\u001b[0m\n",
       "\u001b[38;2;255;0;0m│\u001b[0m   \u001b[2m1816 \u001b[0m\u001b[2m│   │   │   │   │   \u001b[0m\u001b[1;4mproduction_variants=[production_variant],\u001b[0m                             \u001b[38;2;255;0;0m│\u001b[0m\n",
       "\u001b[38;2;255;0;0m│\u001b[0m   \u001b[2m1817 \u001b[0m\u001b[2m│   │   │   │   │   \u001b[0m\u001b[1;4mtags=tags,\u001b[0m                                                            \u001b[38;2;255;0;0m│\u001b[0m\n",
       "\u001b[38;2;255;0;0m│\u001b[0m                                                                                                  \u001b[38;2;255;0;0m│\u001b[0m\n",
       "\u001b[38;2;255;0;0m│\u001b[0m \u001b[2m/opt/conda/lib/python3.12/site-packages/sagemaker/\u001b[0m\u001b[1msession.py\u001b[0m:6031 in                             \u001b[38;2;255;0;0m│\u001b[0m\n",
       "\u001b[38;2;255;0;0m│\u001b[0m endpoint_from_production_variants                                                                \u001b[38;2;255;0;0m│\u001b[0m\n",
       "\u001b[38;2;255;0;0m│\u001b[0m                                                                                                  \u001b[38;2;255;0;0m│\u001b[0m\n",
       "\u001b[38;2;255;0;0m│\u001b[0m   \u001b[2m6028 \u001b[0m\u001b[2m│   │   │   \u001b[0mconfig_options[\u001b[33m\"\u001b[0m\u001b[33mExecutionRoleArn\u001b[0m\u001b[33m\"\u001b[0m] = role                                     \u001b[38;2;255;0;0m│\u001b[0m\n",
       "\u001b[38;2;255;0;0m│\u001b[0m   \u001b[2m6029 \u001b[0m\u001b[2m│   │   \u001b[0m                                                                                  \u001b[38;2;255;0;0m│\u001b[0m\n",
       "\u001b[38;2;255;0;0m│\u001b[0m   \u001b[2m6030 \u001b[0m\u001b[2m│   │   \u001b[0mlogger.info(\u001b[33m\"\u001b[0m\u001b[33mCreating endpoint-config with name \u001b[0m\u001b[33m%s\u001b[0m\u001b[33m\"\u001b[0m, name)                        \u001b[38;2;255;0;0m│\u001b[0m\n",
       "\u001b[38;2;255;0;0m│\u001b[0m \u001b[31m❱ \u001b[0m6031 \u001b[2m│   │   \u001b[0m\u001b[1;4;96mself\u001b[0m\u001b[1;4m.sagemaker_client.create_endpoint_config(**config_options)\u001b[0m                    \u001b[38;2;255;0;0m│\u001b[0m\n",
       "\u001b[38;2;255;0;0m│\u001b[0m   \u001b[2m6032 \u001b[0m\u001b[2m│   │   \u001b[0m                                                                                  \u001b[38;2;255;0;0m│\u001b[0m\n",
       "\u001b[38;2;255;0;0m│\u001b[0m   \u001b[2m6033 \u001b[0m\u001b[2m│   │   \u001b[0m\u001b[94mreturn\u001b[0m \u001b[96mself\u001b[0m.create_endpoint(                                                      \u001b[38;2;255;0;0m│\u001b[0m\n",
       "\u001b[38;2;255;0;0m│\u001b[0m   \u001b[2m6034 \u001b[0m\u001b[2m│   │   │   \u001b[0mendpoint_name=name,                                                           \u001b[38;2;255;0;0m│\u001b[0m\n",
       "\u001b[38;2;255;0;0m│\u001b[0m                                                                                                  \u001b[38;2;255;0;0m│\u001b[0m\n",
       "\u001b[38;2;255;0;0m│\u001b[0m \u001b[2m/opt/conda/lib/python3.12/site-packages/botocore/\u001b[0m\u001b[1mclient.py\u001b[0m:569 in _api_call                      \u001b[38;2;255;0;0m│\u001b[0m\n",
       "\u001b[38;2;255;0;0m│\u001b[0m                                                                                                  \u001b[38;2;255;0;0m│\u001b[0m\n",
       "\u001b[38;2;255;0;0m│\u001b[0m   \u001b[2m 566 \u001b[0m\u001b[2m│   │   │   │   │   \u001b[0m\u001b[33mf\u001b[0m\u001b[33m\"\u001b[0m\u001b[33m{\u001b[0mpy_operation_name\u001b[33m}\u001b[0m\u001b[33m() only accepts keyword arguments.\u001b[0m\u001b[33m\"\u001b[0m              \u001b[38;2;255;0;0m│\u001b[0m\n",
       "\u001b[38;2;255;0;0m│\u001b[0m   \u001b[2m 567 \u001b[0m\u001b[2m│   │   │   │   \u001b[0m)                                                                         \u001b[38;2;255;0;0m│\u001b[0m\n",
       "\u001b[38;2;255;0;0m│\u001b[0m   \u001b[2m 568 \u001b[0m\u001b[2m│   │   │   \u001b[0m\u001b[2m# The \"self\" in this scope is referring to the BaseClient.\u001b[0m                    \u001b[38;2;255;0;0m│\u001b[0m\n",
       "\u001b[38;2;255;0;0m│\u001b[0m \u001b[31m❱ \u001b[0m 569 \u001b[2m│   │   │   \u001b[0m\u001b[94mreturn\u001b[0m \u001b[1;4;96mself\u001b[0m\u001b[1;4m._make_api_call(operation_name, kwargs)\u001b[0m                            \u001b[38;2;255;0;0m│\u001b[0m\n",
       "\u001b[38;2;255;0;0m│\u001b[0m   \u001b[2m 570 \u001b[0m\u001b[2m│   │   \u001b[0m                                                                                  \u001b[38;2;255;0;0m│\u001b[0m\n",
       "\u001b[38;2;255;0;0m│\u001b[0m   \u001b[2m 571 \u001b[0m\u001b[2m│   │   \u001b[0m_api_call.\u001b[91m__name__\u001b[0m = \u001b[96mstr\u001b[0m(py_operation_name)                                       \u001b[38;2;255;0;0m│\u001b[0m\n",
       "\u001b[38;2;255;0;0m│\u001b[0m   \u001b[2m 572 \u001b[0m                                                                                          \u001b[38;2;255;0;0m│\u001b[0m\n",
       "\u001b[38;2;255;0;0m│\u001b[0m                                                                                                  \u001b[38;2;255;0;0m│\u001b[0m\n",
       "\u001b[38;2;255;0;0m│\u001b[0m \u001b[2m/opt/conda/lib/python3.12/site-packages/botocore/\u001b[0m\u001b[1mclient.py\u001b[0m:1023 in _make_api_call                \u001b[38;2;255;0;0m│\u001b[0m\n",
       "\u001b[38;2;255;0;0m│\u001b[0m                                                                                                  \u001b[38;2;255;0;0m│\u001b[0m\n",
       "\u001b[38;2;255;0;0m│\u001b[0m   \u001b[2m1020 \u001b[0m\u001b[2m│   │   │   │   \u001b[0m\u001b[33m\"\u001b[0m\u001b[33mCode\u001b[0m\u001b[33m\"\u001b[0m                                                                    \u001b[38;2;255;0;0m│\u001b[0m\n",
       "\u001b[38;2;255;0;0m│\u001b[0m   \u001b[2m1021 \u001b[0m\u001b[2m│   │   │   \u001b[0m)                                                                             \u001b[38;2;255;0;0m│\u001b[0m\n",
       "\u001b[38;2;255;0;0m│\u001b[0m   \u001b[2m1022 \u001b[0m\u001b[2m│   │   │   \u001b[0merror_class = \u001b[96mself\u001b[0m.exceptions.from_code(error_code)                           \u001b[38;2;255;0;0m│\u001b[0m\n",
       "\u001b[38;2;255;0;0m│\u001b[0m \u001b[31m❱ \u001b[0m1023 \u001b[2m│   │   │   \u001b[0m\u001b[1;4;94mraise\u001b[0m\u001b[1;4m error_class(parsed_response, operation_name)\u001b[0m                            \u001b[38;2;255;0;0m│\u001b[0m\n",
       "\u001b[38;2;255;0;0m│\u001b[0m   \u001b[2m1024 \u001b[0m\u001b[2m│   │   \u001b[0m\u001b[94melse\u001b[0m:                                                                             \u001b[38;2;255;0;0m│\u001b[0m\n",
       "\u001b[38;2;255;0;0m│\u001b[0m   \u001b[2m1025 \u001b[0m\u001b[2m│   │   │   \u001b[0m\u001b[94mreturn\u001b[0m parsed_response                                                        \u001b[38;2;255;0;0m│\u001b[0m\n",
       "\u001b[38;2;255;0;0m│\u001b[0m   \u001b[2m1026 \u001b[0m                                                                                          \u001b[38;2;255;0;0m│\u001b[0m\n",
       "\u001b[38;2;255;0;0m╰──────────────────────────────────────────────────────────────────────────────────────────────────╯\u001b[0m\n",
       "\u001b[1;91mClientError: \u001b[0mAn error occurred \u001b[1m(\u001b[0mValidationException\u001b[1m)\u001b[0m when calling the CreateEndpointConfig operation: Cannot create\n",
       "already existing endpoint configuration \n",
       "\u001b[38;2;0;135;0m\"arn:aws:sagemaker:us-east-1:973884802842:endpoint-config/amplify-120m-endpoint\"\u001b[0m.\n"
      ]
     },
     "metadata": {},
     "output_type": "display_data"
    }
   ],
   "source": [
    "# Define SageMaker endpoint name\n",
    "base_name = model_id.split(\"/\")[-1].lower().replace(\"_\", \"-\").replace(\".\", \"-\")\n",
    "endpoint_name = f\"{base_name}-endpoint\"\n",
    "\n",
    "print(f'Endpoint name: {endpoint_name}')\n",
    "\n",
    "# Create endpoint definition\n",
    "sm_model = PyTorchModel(\n",
    "    model_data=model_data_location,\n",
    "    role=execution_role,\n",
    "    image_uri=image,\n",
    "    source_dir=f'data/{LAB2_FOLDER}/code/',\n",
    "    entry_point=\"inference.py\",\n",
    "    env={\n",
    "        'AMPLIFY_MODEL_ID': model_id\n",
    "    }\n",
    ")\n",
    "\n",
    "# Deploy the model\n",
    "predictor = sm_model.deploy(\n",
    "    initial_instance_count=1,\n",
    "    instance_type=instance_type,\n",
    "    endpoint_name=endpoint_name\n",
    ")"
   ]
  },
  {
   "cell_type": "markdown",
   "metadata": {},
   "source": [
    "### Step 4.2 Test the depoyed model"
   ]
  },
  {
   "cell_type": "code",
   "execution_count": 11,
   "metadata": {},
   "outputs": [
    {
     "name": "stdout",
     "output_type": "stream",
     "text": [
      "Logits: {'output': [[[3.6029605865478516, 3.604310989379883, 3.603405714035034, 3.604494571685791, 3.603926420211792, 9.026841163635254, 21.575468063354492, 23.35076141357422, 22.799560546875, 22.219818115234375, 22.1911678314209, 22.642969131469727, 21.981033325195312, 22.41286849975586, 21.51314926147461, 22.321937561035156, 21.817138671875, 21.944259643554688, 21.615201950073242, 21.540863037109375, 21.17413330078125, 22.455562591552734, 21.91006851196289, 21.293737411499023, 19.359338760375977, 20.684070587158203, 3.6044747829437256], [6.29001522064209, 6.290866374969482, 6.290349960327148, 6.290815353393555, 6.290607452392578, 10.12349796295166, 20.438907623291016, 20.94894027709961, 20.45217514038086, 21.437747955322266, 20.80021095275879, 20.44017791748047, 20.083988189697266, 20.67687225341797, 20.081541061401367, 20.451784133911133, 20.06969451904297, 19.504045486450195, 20.253231048583984, 19.706085205078125, 19.989582061767578, 19.157560348510742, 29.237415313720703, 18.623703002929688, 18.298709869384766, 18.361852645874023, 6.2918243408203125], [0.6718605756759644, 0.6735449433326721, 0.6726909875869751, 0.6727858185768127, 0.6729426383972168, 5.009952068328857, 22.218183517456055, 21.456790924072266, 19.57508659362793, 21.20615577697754, 24.80327606201172, 22.373062133789062, 21.706342697143555, 22.218849182128906, 21.891942977905273, 21.745763778686523, 21.171377182006836, 22.168848037719727, 21.295955657958984, 21.89806365966797, 21.77900505065918, 23.25489044189453, 20.138290405273438, 21.593225479125977, 18.72498321533203, 18.992483139038086, 0.6731581687927246], [2.9614601135253906, 2.9630284309387207, 2.9623918533325195, 2.9631259441375732, 2.962954044342041, 4.113921642303467, 20.48118782043457, 22.354949951171875, 19.976734161376953, 26.36661148071289, 21.49252700805664, 17.931854248046875, 18.85678482055664, 21.312660217285156, 22.07952117919922, 18.80782699584961, 19.08678436279297, 18.007343292236328, 18.02691078186035, 18.40498924255371, 19.82101821899414, 19.40182113647461, 18.7554874420166, 18.201183319091797, 17.182445526123047, 19.686447143554688, 2.9629642963409424], [2.6410043239593506, 2.6423707008361816, 2.6422371864318848, 2.6425814628601074, 2.642568588256836, 3.2520856857299805, 22.415542602539062, 19.774818420410156, 18.056371688842773, 25.57891082763672, 16.438547134399414, 15.66178035736084, 16.26477813720703, 17.74730110168457, 23.65188980102539, 15.400497436523438, 15.938793182373047, 15.724333763122559, 15.820287704467773, 14.721351623535156, 19.42849349975586, 17.986324310302734, 18.986083984375, 15.725970268249512, 16.10462760925293, 17.712678909301758, 2.6424946784973145], [2.498213291168213, 2.499462604522705, 2.4981980323791504, 2.49941086769104, 2.4992644786834717, 2.888728618621826, 18.66896629333496, 23.788753509521484, 28.775165557861328, 20.811235427856445, 21.657482147216797, 19.24728012084961, 17.47896385192871, 20.127872467041016, 19.084686279296875, 19.824485778808594, 17.675302505493164, 16.999797821044922, 17.341785430908203, 18.243602752685547, 19.695690155029297, 18.403888702392578, 17.952983856201172, 17.029529571533203, 16.93917465209961, 20.62881088256836, 2.499650478363037], [0.48991215229034424, 0.49150148034095764, 0.4908975660800934, 0.4909609854221344, 0.4913879632949829, 1.6242132186889648, 19.64671516418457, 15.481935501098633, 12.38502025604248, 19.034149169921875, 13.044034957885742, 11.888001441955566, 12.316632270812988, 14.73002815246582, 24.470813751220703, 11.986085891723633, 12.75195026397705, 11.540257453918457, 12.502230644226074, 12.483154296875, 20.675701141357422, 16.193788528442383, 16.616323471069336, 12.894000053405762, 13.391752243041992, 15.617822647094727, 0.4907968044281006], [3.927783250808716, 3.9286508560180664, 3.928013801574707, 3.9288668632507324, 3.9287452697753906, 3.781881332397461, 17.907014846801758, 19.599567413330078, 20.47411346435547, 19.02231216430664, 18.996795654296875, 20.651214599609375, 17.75299644470215, 17.419998168945312, 18.196908950805664, 27.62584114074707, 16.132041931152344, 19.96383285522461, 17.297901153564453, 18.996349334716797, 16.77006721496582, 17.5126953125, 17.065292358398438, 19.22177505493164, 15.153017044067383, 18.33041000366211, 3.9289016723632812], [2.20048451423645, 2.2014641761779785, 2.2004973888397217, 2.201057195663452, 2.2014968395233154, 4.698843955993652, 27.04476547241211, 21.5867977142334, 20.168806076049805, 21.067005157470703, 20.720539093017578, 19.36672592163086, 20.44605255126953, 20.358617782592773, 21.917190551757812, 18.79876708984375, 20.133451461791992, 20.190000534057617, 20.872222900390625, 22.017425537109375, 21.529510498046875, 21.362470626831055, 20.02255630493164, 20.12544822692871, 18.95624542236328, 20.228944778442383, 2.201512336730957], [3.351553201675415, 3.3526124954223633, 3.351072311401367, 3.3521225452423096, 3.352273464202881, 4.514230251312256, 18.88776206970215, 22.510189056396484, 28.997867584228516, 19.784183502197266, 21.647964477539062, 19.96624755859375, 19.362550735473633, 20.333032608032227, 18.713699340820312, 20.58051109313965, 18.803791046142578, 18.821582794189453, 17.930673599243164, 19.91377067565918, 18.034774780273438, 18.287841796875, 17.874187469482422, 19.135005950927734, 18.272842407226562, 20.853195190429688, 3.3529677391052246], [4.758854866027832, 4.759434223175049, 4.758605480194092, 4.759576320648193, 4.7594194412231445, 5.229662895202637, 21.22458839416504, 22.07489585876465, 21.403892517089844, 21.180009841918945, 24.45428466796875, 20.289798736572266, 21.089794158935547, 26.757553100585938, 22.1065731048584, 21.147930145263672, 21.108684539794922, 21.55630111694336, 20.08006477355957, 21.555816650390625, 24.11254119873047, 20.806320190429688, 21.243858337402344, 19.604352951049805, 19.21754264831543, 21.969722747802734, 4.759982109069824], [8.10527229309082, 8.106027603149414, 8.105298042297363, 8.105981826782227, 8.106078147888184, 9.202661514282227, 23.599090576171875, 25.163543701171875, 24.62264633178711, 23.34638214111328, 25.63695526123047, 25.46399688720703, 24.60716438293457, 28.251861572265625, 22.489791870117188, 26.44658660888672, 23.739917755126953, 23.499317169189453, 27.152738571166992, 26.252761840820312, 22.841503143310547, 23.449708938598633, 22.718841552734375, 23.666664123535156, 21.703048706054688, 22.875329971313477, 8.105958938598633], [1.8233792781829834, 1.8247106075286865, 1.824220895767212, 1.8240370750427246, 1.8244361877441406, 4.800736427307129, 21.808963775634766, 23.843828201293945, 22.80661392211914, 22.474411010742188, 29.248905181884766, 22.54114532470703, 23.13473892211914, 24.422061920166016, 21.983036041259766, 22.996726989746094, 20.478191375732422, 23.407442092895508, 22.363990783691406, 23.860116958618164, 22.992645263671875, 23.893259048461914, 21.100387573242188, 24.265396118164062, 21.270771026611328, 22.0384521484375, 1.824108600616455], [2.800751209259033, 2.802156686782837, 2.8013570308685303, 2.8013060092926025, 2.801943778991699, 5.897058010101318, 22.11078643798828, 21.87752914428711, 20.058109283447266, 22.327239990234375, 22.783191680908203, 18.57709503173828, 18.73361587524414, 22.96987533569336, 22.639972686767578, 18.962013244628906, 18.97074317932129, 18.523880004882812, 18.055509567260742, 20.45425033569336, 20.592239379882812, 19.156007766723633, 20.281902313232422, 18.459501266479492, 17.08769989013672, 26.641164779663086, 2.80177640914917], [5.519235610961914, 5.519871711730957, 5.519035339355469, 5.519627571105957, 5.519746780395508, 8.084365844726562, 23.2003173828125, 25.487838745117188, 23.768295288085938, 23.72503662109375, 23.819467544555664, 22.9705753326416, 26.56065559387207, 23.079124450683594, 22.8896484375, 24.910228729248047, 20.9875431060791, 25.655967712402344, 23.88543701171875, 23.231077194213867, 21.889089584350586, 26.060972213745117, 22.544605255126953, 23.820152282714844, 20.51793098449707, 24.506282806396484, 5.520101547241211], [2.558450222015381, 2.559652328491211, 2.5592997074127197, 2.5597012042999268, 2.559516668319702, 4.055918216705322, 19.562320709228516, 21.65745735168457, 18.329710006713867, 26.0345516204834, 17.525569915771484, 16.4354305267334, 15.890517234802246, 19.187658309936523, 20.368751525878906, 16.194589614868164, 16.331314086914062, 15.135677337646484, 15.444534301757812, 15.629512786865234, 18.22455596923828, 18.053560256958008, 18.309669494628906, 15.627143859863281, 16.008668899536133, 18.67470932006836, 2.559358596801758], [1.2527042627334595, 1.253905177116394, 1.253519892692566, 1.253548502922058, 1.2534387111663818, 3.9076714515686035, 20.074499130249023, 28.208406448364258, 24.132427215576172, 21.04054832458496, 22.82488250732422, 19.506858825683594, 19.743026733398438, 20.487756729125977, 19.588159561157227, 19.039691925048828, 18.420780181884766, 18.85226821899414, 19.079505920410156, 18.458148956298828, 19.556522369384766, 20.592235565185547, 20.019119262695312, 18.246131896972656, 18.427963256835938, 21.08602523803711, 1.2533302307128906], [3.657357931137085, 3.659221887588501, 3.658761739730835, 3.6589841842651367, 3.658909320831299, 6.4273834228515625, 21.195091247558594, 20.109392166137695, 18.4462833404541, 26.015941619873047, 18.39872932434082, 19.54766273498535, 19.11162567138672, 18.932594299316406, 20.902616500854492, 18.677013397216797, 17.502975463867188, 18.009138107299805, 18.463607788085938, 17.505680084228516, 18.939189910888672, 19.59568214416504, 18.76898193359375, 18.286075592041016, 17.94995880126953, 18.934341430664062, 3.6587748527526855], [0.9426374435424805, 0.94419264793396, 0.944111704826355, 0.943701982498169, 0.9435058832168579, 4.551263332366943, 20.719358444213867, 24.56740951538086, 20.22771453857422, 21.860912322998047, 21.2600154876709, 19.110422134399414, 20.12458038330078, 20.371456146240234, 20.245229721069336, 18.261249542236328, 17.517253875732422, 19.029037475585938, 18.772319793701172, 18.785099029541016, 21.235210418701172, 21.97628402709961, 19.759939193725586, 19.80206298828125, 20.245386123657227, 19.717899322509766, 0.9434500932693481], [4.502015590667725, 4.503623962402344, 4.5027241706848145, 4.503033638000488, 4.503415107727051, 7.42847204208374, 20.43793487548828, 22.15732192993164, 24.192739486694336, 21.205265045166016, 23.30115509033203, 22.91592788696289, 27.266071319580078, 23.384811401367188, 19.57428741455078, 23.617055892944336, 21.540599822998047, 22.691158294677734, 22.822500228881836, 22.98114013671875, 19.741153717041016, 20.864662170410156, 19.455623626708984, 22.511795043945312, 20.018075942993164, 19.9013671875, 4.503474712371826], [2.008359909057617, 2.009655475616455, 2.0097084045410156, 2.009450912475586, 2.009291172027588, 6.309530258178711, 21.252445220947266, 26.12911605834961, 23.599403381347656, 21.244169235229492, 22.253620147705078, 23.434412002563477, 22.14013671875, 21.631269454956055, 20.88753890991211, 24.442386627197266, 23.502094268798828, 21.848554611206055, 21.734081268310547, 23.56206512451172, 20.350664138793945, 19.876920700073242, 19.854328155517578, 22.041996002197266, 18.76626968383789, 19.294124603271484, 2.009542942047119], [6.599874973297119, 6.601229667663574, 6.600399017333984, 6.600859642028809, 6.600803852081299, 9.073104858398438, 23.329504013061523, 24.54149055480957, 30.245620727539062, 23.08411407470703, 25.12248992919922, 26.34707260131836, 24.392822265625, 24.591962814331055, 22.335966110229492, 27.931116104125977, 24.626731872558594, 24.4483699798584, 24.296669006347656, 26.46366310119629, 22.75040626525879, 22.773794174194336, 21.667301177978516, 24.17045021057129, 21.147802352905273, 22.31340789794922, 6.60111665725708], [4.719326496124268, 4.720977783203125, 4.7202558517456055, 4.720272541046143, 4.720568656921387, 6.899538993835449, 23.130741119384766, 23.80496597290039, 27.63381576538086, 23.987396240234375, 23.631380081176758, 24.399433135986328, 25.147184371948242, 24.39021873474121, 23.021591186523438, 22.923851013183594, 21.945575714111328, 25.078601837158203, 23.880577087402344, 22.981571197509766, 21.68651580810547, 21.505332946777344, 21.955202102661133, 22.762710571289062, 20.6424560546875, 21.588695526123047, 4.720955848693848], [3.5684800148010254, 3.5703210830688477, 3.5696163177490234, 3.570016622543335, 3.5701799392700195, 6.821325778961182, 21.185449600219727, 20.205169677734375, 20.45972442626953, 22.282642364501953, 19.550968170166016, 20.40212059020996, 19.847949981689453, 20.46022605895996, 26.54326629638672, 19.903854370117188, 20.370704650878906, 19.61447525024414, 18.804969787597656, 19.4552001953125, 19.459651947021484, 18.308168411254883, 19.90765380859375, 18.201560974121094, 16.813575744628906, 18.32740592956543, 3.5696167945861816], [4.391726493835449, 4.393657684326172, 4.392605781555176, 4.392933368682861, 4.393214702606201, 6.12515115737915, 22.387859344482422, 21.826745986938477, 20.29296112060547, 23.291959762573242, 21.119421005249023, 27.964221954345703, 22.279216766357422, 22.22616195678711, 21.710060119628906, 21.348140716552734, 20.179128646850586, 21.963417053222656, 22.219831466674805, 19.865324020385742, 20.56562042236328, 19.893754959106445, 20.60575294494629, 20.346405029296875, 18.76022720336914, 20.43832015991211, 4.392922401428223], [3.3085031509399414, 3.3095626831054688, 3.309209108352661, 3.309415578842163, 3.3096957206726074, 6.347688674926758, 23.521934509277344, 22.13268280029297, 19.481657028198242, 23.93478775024414, 20.674352645874023, 20.632843017578125, 21.686595916748047, 25.50971221923828, 24.14869499206543, 19.18942642211914, 22.10832405090332, 21.29629898071289, 20.42403793334961, 19.784690856933594, 22.779273986816406, 20.572998046875, 21.24394989013672, 19.77264404296875, 18.833375930786133, 21.755313873291016, 3.3091843128204346], [5.780935287475586, 5.78234338760376, 5.782144546508789, 5.782369136810303, 5.782265663146973, 9.177173614501953, 23.992467880249023, 20.463972091674805, 19.22386932373047, 23.327728271484375, 19.58023452758789, 19.813743591308594, 20.67770004272461, 19.996936798095703, 27.18050765991211, 19.308277130126953, 20.383255004882812, 19.561140060424805, 19.308700561523438, 19.087697982788086, 22.09542465209961, 21.03119659423828, 20.68881607055664, 20.194873809814453, 18.70931625366211, 19.2365779876709, 5.781986236572266], [3.2985775470733643, 3.2998712062835693, 3.2999563217163086, 3.299701690673828, 3.2997031211853027, 7.627072334289551, 22.75442886352539, 28.415374755859375, 22.790550231933594, 22.96935272216797, 23.19015884399414, 22.343467712402344, 22.117965698242188, 22.366100311279297, 21.70570945739746, 21.881244659423828, 23.01534652709961, 21.317209243774414, 21.659454345703125, 20.964244842529297, 22.065223693847656, 21.405323028564453, 20.874807357788086, 21.35654067993164, 20.77561378479004, 21.671316146850586, 3.299583911895752], [6.193841934204102, 6.194960117340088, 6.19409704208374, 6.194584846496582, 6.194687843322754, 9.352392196655273, 23.55677032470703, 24.85018539428711, 24.323436737060547, 23.88640594482422, 26.403339385986328, 24.57699966430664, 24.74700164794922, 25.26699447631836, 23.210548400878906, 24.908523559570312, 24.08063316345215, 23.92821502685547, 24.453887939453125, 30.83663558959961, 23.123912811279297, 23.747047424316406, 22.921655654907227, 24.444732666015625, 21.48443603515625, 23.883472442626953, 6.194468021392822], [5.9509429931640625, 5.9523234367370605, 5.951745510101318, 5.9520182609558105, 5.95196533203125, 8.818092346191406, 21.337976455688477, 23.291187286376953, 22.040767669677734, 21.75649642944336, 23.501296997070312, 27.263113021850586, 22.753707885742188, 22.52901268005371, 20.793201446533203, 22.334077835083008, 20.93083953857422, 21.212900161743164, 21.456100463867188, 21.173362731933594, 21.65727996826172, 22.546079635620117, 20.451370239257812, 21.50722312927246, 19.936277389526367, 21.479883193969727, 5.951804161071777], [5.4738359451293945, 5.474734783172607, 5.474359035491943, 5.474470138549805, 5.474696636199951, 9.4540433883667, 23.643165588378906, 25.282705307006836, 24.86690902709961, 24.096172332763672, 24.41149139404297, 23.327442169189453, 24.516441345214844, 23.363876342773438, 23.1002197265625, 23.288177490234375, 23.662948608398438, 24.149166107177734, 23.997161865234375, 23.182376861572266, 23.60199737548828, 27.227584838867188, 22.482799530029297, 23.537322998046875, 24.12630844116211, 22.374847412109375, 5.474521636962891], [4.9930033683776855, 4.994274616241455, 4.993634223937988, 4.993983268737793, 4.993967056274414, 9.529233932495117, 25.029632568359375, 23.945100784301758, 25.332508087158203, 24.949413299560547, 27.392494201660156, 23.395771026611328, 23.209003448486328, 23.61452865600586, 25.874980926513672, 24.55019187927246, 23.42236328125, 22.23970603942871, 23.05158233642578, 24.274314880371094, 24.198501586914062, 23.39948844909668, 23.58651351928711, 22.911907196044922, 23.327259063720703, 22.649261474609375, 4.993886947631836], [6.622117042541504, 6.623510837554932, 6.622862815856934, 6.623289585113525, 6.623143196105957, 10.035429000854492, 25.50017547607422, 24.998294830322266, 26.500768661499023, 24.696849822998047, 25.07666778564453, 25.297504425048828, 25.575605392456055, 24.93353271484375, 24.95838165283203, 28.102190017700195, 25.09457015991211, 24.464927673339844, 24.994552612304688, 24.85371208190918, 24.349647521972656, 24.601078033447266, 23.684520721435547, 24.545576095581055, 23.462512969970703, 22.963417053222656, 6.623241901397705], [5.229694366455078, 5.230782508850098, 5.229853630065918, 5.230102062225342, 5.2303547859191895, 8.582239151000977, 24.311153411865234, 24.056718826293945, 24.04761505126953, 23.93364143371582, 23.568824768066406, 23.49147605895996, 29.385650634765625, 24.425981521606445, 23.238750457763672, 23.406780242919922, 22.88508415222168, 23.928646087646484, 23.284616470336914, 23.071908950805664, 22.87897300720215, 23.507530212402344, 22.286270141601562, 23.31848907470703, 22.817075729370117, 22.34609603881836, 5.230642795562744], [7.727051734924316, 7.728507995605469, 7.727627754211426, 7.727466106414795, 7.727797031402588, 11.535882949829102, 26.53518295288086, 26.025503158569336, 26.04564666748047, 25.94837188720703, 25.421939849853516, 25.686159133911133, 26.726530075073242, 25.898502349853516, 25.090946197509766, 24.75848388671875, 25.943965911865234, 27.168617248535156, 25.947986602783203, 24.589874267578125, 24.332195281982422, 23.84820556640625, 24.79245376586914, 24.69903564453125, 22.809978485107422, 26.632354736328125, 7.728419780731201], [5.139014720916748, 5.140362739562988, 5.139479160308838, 5.139774322509766, 5.139906883239746, 6.791961669921875, 23.931364059448242, 23.607280731201172, 22.740863800048828, 23.33250617980957, 23.997791290283203, 23.165287017822266, 24.289653778076172, 28.841442108154297, 23.196199417114258, 23.056262969970703, 23.12743377685547, 23.843311309814453, 23.797378540039062, 23.67066192626953, 23.930797576904297, 24.08431053161621, 22.971126556396484, 24.630727767944336, 23.07844352722168, 21.997827529907227, 5.139708995819092], [6.793303966522217, 6.794628620147705, 6.793878078460693, 6.794179916381836, 6.7943620681762695, 10.68460464477539, 23.964488983154297, 24.90568733215332, 24.33355140686035, 24.037050247192383, 24.52405548095703, 24.188047409057617, 25.104373931884766, 24.22296905517578, 23.488876342773438, 24.095760345458984, 31.138486862182617, 24.299837112426758, 23.960248947143555, 23.583412170410156, 23.12493896484375, 23.000049591064453, 22.389850616455078, 23.67804527282715, 21.54444122314453, 22.85394287109375, 6.794724464416504], [3.123546838760376, 3.1246705055236816, 3.12465500831604, 3.1242759227752686, 3.1241843700408936, 7.523292064666748, 22.43963623046875, 28.134397506713867, 24.285463333129883, 22.459251403808594, 25.312761306762695, 23.931106567382812, 23.870342254638672, 23.263362884521484, 21.820966720581055, 24.397262573242188, 22.774490356445312, 22.874374389648438, 23.19967269897461, 22.868087768554688, 21.86174774169922, 22.189950942993164, 21.599872589111328, 22.501920700073242, 20.872127532958984, 22.101694107055664, 3.1240904331207275], [6.263211250305176, 6.264468193054199, 6.263792514801025, 6.263725757598877, 6.264361381530762, 9.46579360961914, 23.685482025146484, 26.15886688232422, 24.581790924072266, 25.581317901611328, 24.709444046020508, 22.121326446533203, 22.6142578125, 24.014923095703125, 24.66590118408203, 22.704975128173828, 22.237590789794922, 21.85787582397461, 22.0675106048584, 22.210742950439453, 23.22467041015625, 23.338850021362305, 22.920082092285156, 21.76148223876953, 21.29391098022461, 27.056869506835938, 6.264455795288086], [3.892704725265503, 3.8941152095794678, 3.8937041759490967, 3.8934881687164307, 3.893730640411377, 7.351517200469971, 22.196226119995117, 21.335439682006836, 20.216938018798828, 23.215585708618164, 20.462970733642578, 20.16116714477539, 21.31155776977539, 20.692861557006836, 25.413089752197266, 19.974567413330078, 19.89513397216797, 20.106740951538086, 19.53734588623047, 19.05230712890625, 21.375, 20.554014205932617, 20.013017654418945, 19.74118423461914, 20.612579345703125, 19.661577224731445, 3.893307685852051], [3.4316108226776123, 3.432809352874756, 3.432238817214966, 3.4322316646575928, 3.4325456619262695, 8.048765182495117, 23.98198699951172, 26.762393951416016, 26.246925354003906, 25.711761474609375, 28.99563980102539, 23.943470001220703, 24.419450759887695, 24.418928146362305, 24.253334045410156, 23.380033493041992, 23.814918518066406, 22.61372184753418, 22.781665802001953, 22.755531311035156, 23.04463005065918, 22.687606811523438, 23.14073944091797, 23.38831329345703, 21.716777801513672, 23.585784912109375, 3.432741165161133], [3.4158031940460205, 3.4165115356445312, 3.4158663749694824, 3.416419267654419, 3.4161314964294434, 5.9706573486328125, 23.282249450683594, 22.587566375732422, 21.66473388671875, 24.184484481811523, 21.532791137695312, 21.172496795654297, 21.981185913085938, 22.393220901489258, 24.351673126220703, 20.813077926635742, 20.922077178955078, 21.150287628173828, 21.38654327392578, 20.627410888671875, 26.500534057617188, 21.70193862915039, 23.28600311279297, 21.137405395507812, 21.195842742919922, 21.455904006958008, 3.4166035652160645], [8.011039733886719, 8.012030601501465, 8.011223793029785, 8.011844635009766, 8.011653900146484, 10.582812309265137, 26.604366302490234, 26.322040557861328, 30.072906494140625, 26.100431442260742, 26.253173828125, 25.565383911132812, 25.746963500976562, 26.127578735351562, 25.67681884765625, 26.338485717773438, 25.811908721923828, 25.258174896240234, 25.35153579711914, 25.690399169921875, 25.009685516357422, 24.493183135986328, 25.917640686035156, 25.19336700439453, 24.47193145751953, 24.525413513183594, 8.012127876281738], [6.335382461547852, 6.3363752365112305, 6.336023807525635, 6.335808753967285, 6.3361334800720215, 10.4425048828125, 23.842506408691406, 24.720195770263672, 24.258695602416992, 24.531557083129883, 24.260276794433594, 25.026763916015625, 25.07135009765625, 24.13980484008789, 23.963911056518555, 24.551254272460938, 27.226295471191406, 24.3375244140625, 23.889448165893555, 23.50103759765625, 23.053544998168945, 23.072834014892578, 22.84937286376953, 23.679616928100586, 22.706520080566406, 22.812828063964844, 6.336235523223877], [5.630008697509766, 5.631254196166992, 5.630566596984863, 5.630600929260254, 5.630744934082031, 8.994489669799805, 24.065364837646484, 24.947315216064453, 24.779516220092773, 24.19168472290039, 24.34708023071289, 25.160634994506836, 24.94019317626953, 23.96829605102539, 23.519329071044922, 25.154476165771484, 24.077953338623047, 28.26805877685547, 24.128036499023438, 24.24594497680664, 23.099300384521484, 22.811443328857422, 22.819595336914062, 23.425113677978516, 22.338699340820312, 22.72577667236328, 5.630767822265625], [5.249340534210205, 5.2506537437438965, 5.2501349449157715, 5.249981880187988, 5.250326156616211, 8.532937049865723, 25.45467758178711, 25.85513687133789, 26.336782455444336, 25.694229125976562, 25.352981567382812, 25.14086151123047, 25.789159774780273, 25.36727523803711, 25.351051330566406, 25.371652603149414, 25.37348175048828, 25.32096290588379, 24.969026565551758, 28.3839054107666, 24.499204635620117, 24.473140716552734, 24.226482391357422, 24.56839370727539, 23.477069854736328, 23.851016998291016, 5.250216960906982], [3.08316707611084, 3.0849928855895996, 3.083876609802246, 3.083897829055786, 3.0839991569519043, 7.337616443634033, 20.62493324279785, 21.333961486816406, 20.997657775878906, 21.1369686126709, 20.396015167236328, 20.291168212890625, 24.226730346679688, 20.17314910888672, 20.41156005859375, 20.342227935791016, 20.648515701293945, 20.180953979492188, 19.957237243652344, 19.731660842895508, 19.742389678955078, 19.777711868286133, 19.380399703979492, 19.5349178314209, 18.527132034301758, 19.33493995666504, 3.0841073989868164], [-0.4420119822025299, -0.4401126205921173, -0.4408693015575409, -0.44074469804763794, -0.4407867193222046, 5.784677982330322, 16.826045989990234, 17.9708194732666, 16.584430694580078, 16.455656051635742, 16.79210662841797, 16.432430267333984, 17.444873809814453, 16.201431274414062, 16.510818481445312, 16.1756649017334, 16.53044319152832, 16.88711166381836, 15.579778671264648, 16.007505416870117, 16.061208724975586, 17.21808433532715, 15.40989875793457, 16.196128845214844, 14.792362213134766, 16.37468147277832, -0.440764844417572]]]}\n"
     ]
    }
   ],
   "source": [
    "from sagemaker.serializers import JSONSerializer\n",
    "from sagemaker.deserializers import JSONDeserializer\n",
    "\n",
    "predictor.serializer = JSONSerializer()  \n",
    "predictor.deserializer = JSONDeserializer()  \n",
    "\n",
    "sequence = \"MSVVGIDLGFQSCYVAVARAGGIETIANEYSDRCTPACISFGPKNR\"\n",
    "\n",
    "result = predictor.predict({\"sequence\": sequence})\n",
    "\n",
    "print(f\"Logits: {result}\")"
   ]
  },
  {
   "cell_type": "markdown",
   "metadata": {},
   "source": [
    "## Step 5: Create and test the second SageMaker inference endpoint that will support embeddings"
   ]
  },
  {
   "cell_type": "markdown",
   "metadata": {},
   "source": [
    "### Step 5.1 Modify Custom Inference Script\n",
    "\n",
    "* ```input_fn``` - will accept additional parameter *mode*, which can take values either *logits* or *embeddings*\n",
    "* ```predict_fn``` - will pass additional argument *output_hidden_states=True* to model if *mode* value is *embeddings*\n",
    "* ```output_fn``` - will extract hidden_states from the output if  *mode* value is *embeddings*"
   ]
  },
  {
   "cell_type": "code",
   "execution_count": 13,
   "metadata": {},
   "outputs": [
    {
     "name": "stdout",
     "output_type": "stream",
     "text": [
      "Overwriting data/lab2-amplify/code/inference-embeddings.py\n"
     ]
    }
   ],
   "source": [
    "%%writefile data/$LAB2_FOLDER/code/inference-embeddings.py\n",
    "\n",
    "import logging\n",
    "import os\n",
    "import json  \n",
    "from transformers import AutoModel, AutoTokenizer\n",
    "import torch\n",
    "\n",
    "logging.basicConfig(level=logging.INFO)\n",
    "\n",
    "def model_fn(model_dir):\n",
    "    logging.info(\"[custom] model_fn: Starting the model loading process...\")\n",
    "\n",
    "    try:\n",
    "        model_id = os.getenv('AMPLIFY_MODEL_ID', 'chandar-lab/AMPLIFY_120M')\n",
    "        logging.info(f\"[custom] model_fn: Model id is {model_id}\")\n",
    "\n",
    "        model = AutoModel.from_pretrained(model_id, trust_remote_code=True)\n",
    "        logging.info(f\"[custom] model_fn: Successfully loaded the model: {model}\")\n",
    "\n",
    "        tokenizer = AutoTokenizer.from_pretrained(model_id, trust_remote_code=True)\n",
    "        logging.info(f\"[custom] model_fn: Successfully loaded the tokenizer: {tokenizer}\")\n",
    "\n",
    "        device = \"cuda\" if torch.cuda.is_available() else \"cpu\"\n",
    "        model = model.to(device)\n",
    "        logging.info(f\"[custom] model_fn: Moved model to {device} device\")\n",
    "\n",
    "        return model, tokenizer, device\n",
    "\n",
    "    except Exception as e:        \n",
    "        logging.error(f\"[custom] model_fn: Error occurred while loading the model and tokenizer: {str(e)}\", exc_info=True)\n",
    "        raise e\n",
    "\n",
    "def input_fn(request_body, content_type='application/json'):\n",
    "    logging.info(\"input_fn: Received input\")\n",
    "    if content_type == 'application/json':\n",
    "        input_data = json.loads(request_body)  \n",
    "        sequence = input_data['sequence']\n",
    "        mode = input_data.get('mode','logits')\n",
    "        return sequence, mode\n",
    "    else:\n",
    "        raise ValueError(f\"Unsupported content type: {content_type}\")\n",
    "\n",
    "def predict_fn(input_data, model_artifacts):\n",
    "    logging.info(\"predict_fn: Running inference\")\n",
    "    sequence, mode = input_data\n",
    "    model, tokenizer, device = model_artifacts\n",
    "    \n",
    "    inputs = tokenizer.encode(sequence, return_tensors=\"pt\")\n",
    "    inputs = inputs.to(device)\n",
    "\n",
    "    with torch.no_grad():\n",
    "        if mode == 'logits':\n",
    "            output = model(inputs)\n",
    "        elif mode == 'embeddings':\n",
    "            output = model(inputs, output_hidden_states=True)\n",
    "        else:\n",
    "            raise ValueError(f\"Unknown mode: {mode}\")            \n",
    "\n",
    "    return output, mode\n",
    "\n",
    "def output_fn(prediction, accept='application/json'):\n",
    "    logging.info(\"output_fn: Formatting output\")\n",
    "    output, mode = prediction\n",
    "    \n",
    "    if accept == 'application/json':\n",
    "        if mode == 'logits':\n",
    "            if hasattr(output, 'logits'):\n",
    "                result = output.logits\n",
    "            else:\n",
    "                raise ValueError(f\"Unknown prediction format: {type(output)}\")\n",
    "        elif mode == 'embeddings':\n",
    "            if hasattr(output, 'hidden_states'):\n",
    "                result = output.hidden_states[-1]\n",
    "            else:\n",
    "                raise ValueError(f\"Unknown prediction format: {type(output)}\")\n",
    "        else:\n",
    "            raise ValueError(f\"Unknown mode: {mode}\")\n",
    "        return json.dumps({mode: result.tolist()}), accept\n",
    "    else:\n",
    "        raise ValueError(f\"Unsupported accept type: {accept}\")"
   ]
  },
  {
   "cell_type": "markdown",
   "metadata": {},
   "source": [
    "### Step 5.2: Deploy the Amplify model with modified Custom Inference Script"
   ]
  },
  {
   "cell_type": "code",
   "execution_count": 14,
   "metadata": {},
   "outputs": [
    {
     "name": "stdout",
     "output_type": "stream",
     "text": [
      "Endpoint name: amplify-120m-endpoint-embeddings\n",
      "---------!"
     ]
    }
   ],
   "source": [
    "# Define SageMaker endpoint name\n",
    "base_name = model_id.split(\"/\")[-1].lower().replace(\"_\", \"-\").replace(\".\", \"-\")\n",
    "endpoint_name_embeddings = f\"{base_name}-endpoint-embeddings\"\n",
    "\n",
    "print(f'Endpoint name: {endpoint_name_embeddings}')\n",
    "\n",
    "# Create endpoint definition\n",
    "sm_model_embeddings = PyTorchModel(\n",
    "    model_data=model_data_location,\n",
    "    role=execution_role,\n",
    "    image_uri=image,\n",
    "    source_dir=f'data/{LAB2_FOLDER}/code/',\n",
    "    entry_point=\"inference-embeddings.py\",\n",
    "    env={\n",
    "        'AMPLIFY_MODEL_ID': model_id\n",
    "    }\n",
    ")\n",
    "\n",
    "# Deploy the model\n",
    "predictor_embeddings = sm_model_embeddings.deploy(\n",
    "    initial_instance_count=1,\n",
    "    instance_type=instance_type,\n",
    "    endpoint_name=endpoint_name_embeddings\n",
    ")"
   ]
  },
  {
   "cell_type": "markdown",
   "metadata": {},
   "source": [
    "### Step 5.3: Test generation of emdeddings (and logits) using the second endpoint"
   ]
  },
  {
   "cell_type": "code",
   "execution_count": null,
   "metadata": {},
   "outputs": [],
   "source": [
    "predictor_embeddings.serializer = JSONSerializer()  \n",
    "predictor_embeddings.deserializer = JSONDeserializer()  \n",
    "\n",
    "sequence = \"MSVVGIDLGFQSCYVAVARAGGIETIANEYSDRCTPACISFGPKNR\"\n",
    "\n",
    "# generate logits\n",
    "result = predictor_embeddings.predict({\"sequence\": sequence, \"mode\": \"logits\"})\n",
    "logits = np.array(result['logits'])\n",
    "\n",
    "print(result)\n",
    "print(f'Logits shape: {logits.shape}')\n",
    "print()\n",
    "\n",
    "# generate embeddings\n",
    "result = predictor_embeddings.predict({\"sequence\": sequence, \"mode\": \"embeddings\"})\n",
    "embeddings = np.array(result['embeddings'])\n",
    "print(result)\n",
    "print(f'Embeddings shape: {embeddings.shape}')\n",
    "\n"
   ]
  },
  {
   "cell_type": "markdown",
   "metadata": {},
   "source": [
    "### [Optional] Delete the unused endpoint"
   ]
  },
  {
   "cell_type": "code",
   "execution_count": null,
   "metadata": {},
   "outputs": [],
   "source": [
    "# Remove endpoint\n",
    "sagemaker = boto3.client('sagemaker')\n",
    "try:\n",
    "    sagemaker.delete_endpoint(EndpointName=endpoint_name)\n",
    "    print(f\"Successfully deleted endpoint: {endpoint_name}\")\n",
    "except Exception as e:\n",
    "    print(f\"Error deleting endpoint: {str(e)}\")"
   ]
  }
 ],
 "metadata": {
  "kernelspec": {
   "display_name": "base",
   "language": "python",
   "name": "python3"
  },
  "language_info": {
   "codemirror_mode": {
    "name": "ipython",
    "version": 3
   },
   "file_extension": ".py",
   "mimetype": "text/x-python",
   "name": "python",
   "nbconvert_exporter": "python",
   "pygments_lexer": "ipython3",
   "version": "3.12.9"
  }
 },
 "nbformat": 4,
 "nbformat_minor": 2
}
