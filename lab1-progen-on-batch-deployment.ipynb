{
 "cells": [
  {
   "cell_type": "markdown",
   "metadata": {},
   "source": [
    "# Lab1 (deployment): Provision resources for running Progen2 model on AWS Batch\n",
    "\n",
    "This notebook will guide you through setting up AWS Batch infrastructure to run Progen2 jobs with parameters. We'll create all necessary resources step by step.\n",
    "\n",
    "#### Prerequisites\n",
    "- Progen2 docker image pushed to ECR\n",
    "- IAM roels configured with appropriate permissions\n"
   ]
  },
  {
   "cell_type": "markdown",
   "metadata": {},
   "source": [
    "## Step 1: Setup and Configuration\n",
    "\n",
    "First, let's get our AWS account information and set up variables we'll use throughout the notebook."
   ]
  },
  {
   "cell_type": "code",
   "execution_count": 11,
   "metadata": {},
   "outputs": [
    {
     "name": "stdout",
     "output_type": "stream",
     "text": [
      "Account ID: 973884802842\n",
      "Region: us-east-1\n",
      "S3 Bucket: workshop-data-973884802842\n",
      "ECR Image URI: 973884802842.dkr.ecr.us-east-1.amazonaws.com/models/progen2:latest\n",
      "\n",
      "BatchServiceRole ARN: arn:aws:iam::973884802842:role/main-BatchServiceRole-nIjzojJyYSL9\n",
      "Instance Profile ARN: arn:aws:iam::973884802842:instance-profile/EcsInstanceProfile\n",
      "BatchJobRole ARN : arn:aws:iam::973884802842:role/main-BatchJobRole-o4hwBWbniQnH\n"
     ]
    }
   ],
   "source": [
    "import boto3\n",
    "import json\n",
    "import time\n",
    "import datetime\n",
    "from utils.iam_helper import IamHelper\n",
    "\n",
    "##########################################################\n",
    "\n",
    "# Get AWS account information\n",
    "sts_client = boto3.client('sts')\n",
    "account_id = sts_client.get_caller_identity()['Account']\n",
    "region = boto3.Session().region_name\n",
    "\n",
    "# Define S3 bucket and folder names\n",
    "S3_BUCKET = f'workshop-data-{account_id}'\n",
    "LAB1_FOLDER = 'lab1-progen'\n",
    "LAB2_FOLDER = 'lab2-amplify'\n",
    "LAB3_FOLDER = 'lab3-esmfold'\n",
    "\n",
    "print(f\"Account ID: {account_id}\")\n",
    "print(f\"Region: {region}\")\n",
    "print(f\"S3 Bucket: {S3_BUCKET}\")\n",
    "\n",
    "##########################################################\n",
    "\n",
    "# Define URI of the progen2 image regitered in ECR\n",
    "ECR_IMAGE_URI = f\"{account_id}.dkr.ecr.{region}.amazonaws.com/models/progen2:latest\"                 \n",
    "print(f\"ECR Image URI: {ECR_IMAGE_URI}\")\n",
    "\n",
    "# Retrieve ARNs of IAM roles required for provisioning Batch resources\n",
    "iam_helper = IamHelper()\n",
    "batch_service_role_arn = iam_helper.find_role_arn_by_pattern('BatchServiceRole')\n",
    "instance_profile_arn = f\"arn:aws:iam::{account_id}:instance-profile/EcsInstanceProfile\"\n",
    "job_role_arn = iam_helper.find_role_arn_by_pattern('BatchJobRole')\n",
    "\n",
    "print()\n",
    "print(f\"BatchServiceRole ARN: {batch_service_role_arn}\")\n",
    "print(f\"Instance Profile ARN: {instance_profile_arn}\")\n",
    "print(f\"BatchJobRole ARN : {job_role_arn}\")\n"
   ]
  },
  {
   "cell_type": "code",
   "execution_count": 4,
   "metadata": {},
   "outputs": [
    {
     "name": "stdout",
     "output_type": "stream",
     "text": [
      "make_bucket: workshop-data-973884802842\n"
     ]
    }
   ],
   "source": [
    "# cretae S3 bucket and local data folders\n",
    "!aws s3 mb s3://$S3_BUCKET\n",
    "!mkdir -p data/$LAB1_FOLDER\n",
    "!mkdir -p data/$LAB2_FOLDER\n",
    "!mkdir -p data/$LAB3_FOLDER"
   ]
  },
  {
   "cell_type": "markdown",
   "metadata": {},
   "source": [
    "## Step 2: Get VPC Information\n",
    "\n",
    "We need to identify the VPC and subnets where our Batch compute environment will run. We'll use the default VPC for simplicity."
   ]
  },
  {
   "cell_type": "code",
   "execution_count": 12,
   "metadata": {},
   "outputs": [
    {
     "name": "stdout",
     "output_type": "stream",
     "text": [
      "Default VPC ID: vpc-05e46f49bf64c4ee8\n",
      "Found 6 subnets:\n",
      "  - subnet-08b80f0d6d2f3f636\n",
      "  - subnet-06c2d73394f3924d3\n",
      "  - subnet-02eb39e09662d67c8\n",
      "  - subnet-0e7d04b9ceced455c\n",
      "  - subnet-09d5659b96d84625b\n",
      "  - subnet-09a7d52122326c3dc\n"
     ]
    }
   ],
   "source": [
    "ec2_client = boto3.client('ec2')\n",
    "\n",
    "# Get default VPC\n",
    "vpcs = ec2_client.describe_vpcs(Filters=[{'Name': 'isDefault', 'Values': ['true']}])\n",
    "if not vpcs['Vpcs']:\n",
    "    raise Exception(\"No default VPC found. Please create one or specify a custom VPC.\")\n",
    "\n",
    "default_vpc_id = vpcs['Vpcs'][0]['VpcId']\n",
    "print(f\"Default VPC ID: {default_vpc_id}\")\n",
    "\n",
    "# Get subnets in default VPC\n",
    "subnets = ec2_client.describe_subnets(Filters=[{'Name': 'vpc-id', 'Values': [default_vpc_id]}])\n",
    "subnet_ids = [subnet['SubnetId'] for subnet in subnets['Subnets']]\n",
    "\n",
    "print(f\"Found {len(subnet_ids)} subnets:\")\n",
    "for subnet_id in subnet_ids:\n",
    "    print(f\"  - {subnet_id}\")\n",
    "\n",
    "if not subnet_ids:\n",
    "    raise Exception(\"No subnets found in default VPC\")"
   ]
  },
  {
   "cell_type": "markdown",
   "metadata": {},
   "source": [
    "## Step 3: Create Batch Resources\n",
    "\n",
    "TODO - [UPDATE] Batch is an AWS resource that allows you to run jobs on demand"
   ]
  },
  {
   "cell_type": "markdown",
   "metadata": {},
   "source": [
    "### Step 3.1: Create Batch Compute Environment\n",
    "\n",
    "The compute environment defines the compute resources (EC2 instances) that will run Progen2 jobs. We'll create a managed compute environment that automatically scales based on job demand."
   ]
  },
  {
   "cell_type": "code",
   "execution_count": 13,
   "metadata": {},
   "outputs": [
    {
     "name": "stdout",
     "output_type": "stream",
     "text": [
      "Default Security Group ID: sg-0c7252e70a23ed5ee\n",
      "Created compute environment: progen2-batch-compute-env\n",
      "   ARN: arn:aws:batch:us-east-1:973884802842:compute-environment/progen2-batch-compute-env\n"
     ]
    }
   ],
   "source": [
    "batch_client = boto3.client('batch')\n",
    "\n",
    "# Get default security group for the VPC\n",
    "security_groups = ec2_client.describe_security_groups(\n",
    "    Filters=[\n",
    "        {'Name': 'vpc-id', 'Values': [default_vpc_id]},\n",
    "        {'Name': 'group-name', 'Values': ['default']}\n",
    "    ]\n",
    ")\n",
    "default_sg_id = security_groups['SecurityGroups'][0]['GroupId']\n",
    "print(f\"Default Security Group ID: {default_sg_id}\")\n",
    "\n",
    "# Create compute environment\n",
    "compute_env_name = 'progen2-batch-compute-env'\n",
    "try:\n",
    "    response = batch_client.create_compute_environment(\n",
    "        computeEnvironmentName=compute_env_name,\n",
    "        type='MANAGED',\n",
    "        state='ENABLED',\n",
    "        computeResources={\n",
    "            'type': 'EC2',\n",
    "            'minvCpus': 0,\n",
    "            'maxvCpus': 50,\n",
    "            'desiredvCpus': 0,\n",
    "            'instanceTypes': ['c6i.xlarge'],\n",
    "            'subnets': subnet_ids,\n",
    "            'securityGroupIds': [default_sg_id],  \n",
    "            'instanceRole': instance_profile_arn,\n",
    "            'tags': {\n",
    "                'Name': 'BatchComputeEnvironment',\n",
    "                'Purpose': 'Inference'\n",
    "            }\n",
    "        },\n",
    "        serviceRole=batch_service_role_arn\n",
    "    )\n",
    "    \n",
    "    print(f\"Created compute environment: {response['computeEnvironmentName']}\")\n",
    "    print(f\"   ARN: {response['computeEnvironmentArn']}\")\n",
    "    \n",
    "except batch_client.exceptions.ClientException as e:\n",
    "    if 'already exists' in str(e):\n",
    "        print(f\"Compute environment {compute_env_name} already exists\")\n",
    "    else:\n",
    "        raise e\n",
    "\n",
    "compute_env_arn = f\"arn:aws:batch:{region}:{account_id}:compute-environment/{compute_env_name}\""
   ]
  },
  {
   "cell_type": "markdown",
   "metadata": {},
   "source": [
    "### Step 3.2: Create Batch Job Queue\n",
    "\n",
    "The job queue connects jobs to compute environments. Jobs submitted to this queue will run on the compute environment we just created."
   ]
  },
  {
   "cell_type": "code",
   "execution_count": 14,
   "metadata": {},
   "outputs": [
    {
     "name": "stdout",
     "output_type": "stream",
     "text": [
      "Created job queue: progen2-batch-job-queue\n",
      "   ARN: arn:aws:batch:us-east-1:973884802842:job-queue/progen2-batch-job-queue\n"
     ]
    }
   ],
   "source": [
    "job_queue_name = 'progen2-batch-job-queue'\n",
    "\n",
    "try:\n",
    "    response = batch_client.create_job_queue(\n",
    "        jobQueueName=job_queue_name,\n",
    "        state='ENABLED',\n",
    "        priority=1,\n",
    "        computeEnvironmentOrder=[\n",
    "            {\n",
    "                'order': 1,\n",
    "                'computeEnvironment': compute_env_name\n",
    "            }\n",
    "        ]\n",
    "    )\n",
    "    \n",
    "    print(f\"Created job queue: {response['jobQueueName']}\")\n",
    "    print(f\"   ARN: {response['jobQueueArn']}\")\n",
    "    \n",
    "except batch_client.exceptions.ClientException as e:\n",
    "    if 'already exists' in str(e):\n",
    "        print(f\"Job queue {job_queue_name} already exists\")\n",
    "    else:\n",
    "        raise e"
   ]
  },
  {
   "cell_type": "markdown",
   "metadata": {},
   "source": [
    "### Step 3.3: Create Batch Job Definition\n",
    "\n",
    "The job definition specifies how progen2 jobs should run, including:\n",
    "- Which container image to use\n",
    "- Resource requirements (CPU, memory)\n",
    "- Parameter placeholders\n",
    "- Environment variables\n",
    "\n",
    "Note the `Ref::` syntax for parameters - these will be replaced with actual values when you submit jobs."
   ]
  },
  {
   "cell_type": "code",
   "execution_count": 15,
   "metadata": {},
   "outputs": [
    {
     "name": "stdout",
     "output_type": "stream",
     "text": [
      "Created job definition: progen2-job-definition\n",
      "   ARN: arn:aws:batch:us-east-1:973884802842:job-definition/progen2-job-definition:1\n",
      "   Revision: 1\n"
     ]
    }
   ],
   "source": [
    "job_definition_name = 'progen2-job-definition'\n",
    "\n",
    "try:\n",
    "    response = batch_client.register_job_definition(\n",
    "        jobDefinitionName=job_definition_name,\n",
    "        type='container',\n",
    "        containerProperties={\n",
    "            'image': ECR_IMAGE_URI,\n",
    "            'vcpus': 2,\n",
    "            'memory': 4096,\n",
    "            'command': [\n",
    "                'Ref::hfModelId',\n",
    "                'Ref::s3InputParamsPath',\n",
    "                'Ref::batchId',\n",
    "                'Ref::batchSize',\n",
    "                'Ref::batchNumber',\n",
    "                'Ref::s3OutputPath'\n",
    "            ],\n",
    "            'environment': [\n",
    "                {'name': 'AWS_DEFAULT_REGION', 'value': region},\n",
    "                {'name': 'S3_BUCKET', 'value': S3_BUCKET}\n",
    "            ],\n",
    "            'jobRoleArn': job_role_arn\n",
    "        },\n",
    "        retryStrategy={'attempts': 2},\n",
    "        timeout={'attemptDurationSeconds': 3600}  # 1 hour timeout\n",
    "    )\n",
    "    \n",
    "    print(f\"Created job definition: {response['jobDefinitionName']}\")\n",
    "    print(f\"   ARN: {response['jobDefinitionArn']}\")\n",
    "    print(f\"   Revision: {response['revision']}\")\n",
    "    \n",
    "except Exception as e:\n",
    "    print(f\"Error creating job definition: {e}\")\n",
    "\n",
    "job_definition_arn = f\"arn:aws:batch:{region}:{account_id}:job-definition/{job_definition_name}:1\""
   ]
  }
 ],
 "metadata": {
  "kernelspec": {
   "display_name": "Python 3",
   "language": "python",
   "name": "python3"
  },
  "language_info": {
   "codemirror_mode": {
    "name": "ipython",
    "version": 3
   },
   "file_extension": ".py",
   "mimetype": "text/x-python",
   "name": "python",
   "nbconvert_exporter": "python",
   "pygments_lexer": "ipython3",
   "version": "3.12.9"
  }
 },
 "nbformat": 4,
 "nbformat_minor": 4
}
